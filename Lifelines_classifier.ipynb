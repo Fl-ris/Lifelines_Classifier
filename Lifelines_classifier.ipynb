{
 "cells": [
  {
   "cell_type": "markdown",
   "metadata": {},
   "source": [
    "## **Lifelines classifier:**\n",
    "> Floris Menninga \\\n",
    "> Datum: 3-03-2025 \\\n",
    "> Versie: 1\n",
    "\n"
   ]
  },
  {
   "cell_type": "code",
   "execution_count": 23,
   "metadata": {},
   "outputs": [
    {
     "name": "stdout",
     "output_type": "stream",
     "text": [
      "Requirement already satisfied: pandas in ./.venv/lib64/python3.13/site-packages (2.2.3)\n",
      "Requirement already satisfied: numpy>=1.26.0 in ./.venv/lib64/python3.13/site-packages (from pandas) (2.2.3)\n",
      "Requirement already satisfied: python-dateutil>=2.8.2 in ./.venv/lib64/python3.13/site-packages (from pandas) (2.9.0.post0)\n",
      "Requirement already satisfied: pytz>=2020.1 in ./.venv/lib64/python3.13/site-packages (from pandas) (2025.1)\n",
      "Requirement already satisfied: tzdata>=2022.7 in ./.venv/lib64/python3.13/site-packages (from pandas) (2025.1)\n",
      "Requirement already satisfied: six>=1.5 in ./.venv/lib64/python3.13/site-packages (from python-dateutil>=2.8.2->pandas) (1.17.0)\n",
      "Requirement already satisfied: matplotlib in ./.venv/lib64/python3.13/site-packages (3.10.1)\n",
      "Requirement already satisfied: contourpy>=1.0.1 in ./.venv/lib64/python3.13/site-packages (from matplotlib) (1.3.1)\n",
      "Requirement already satisfied: cycler>=0.10 in ./.venv/lib64/python3.13/site-packages (from matplotlib) (0.12.1)\n",
      "Requirement already satisfied: fonttools>=4.22.0 in ./.venv/lib64/python3.13/site-packages (from matplotlib) (4.56.0)\n",
      "Requirement already satisfied: kiwisolver>=1.3.1 in ./.venv/lib64/python3.13/site-packages (from matplotlib) (1.4.8)\n",
      "Requirement already satisfied: numpy>=1.23 in ./.venv/lib64/python3.13/site-packages (from matplotlib) (2.2.3)\n",
      "Requirement already satisfied: packaging>=20.0 in ./.venv/lib64/python3.13/site-packages (from matplotlib) (24.2)\n",
      "Requirement already satisfied: pillow>=8 in ./.venv/lib64/python3.13/site-packages (from matplotlib) (11.1.0)\n",
      "Requirement already satisfied: pyparsing>=2.3.1 in ./.venv/lib64/python3.13/site-packages (from matplotlib) (3.2.1)\n",
      "Requirement already satisfied: python-dateutil>=2.7 in ./.venv/lib64/python3.13/site-packages (from matplotlib) (2.9.0.post0)\n",
      "Requirement already satisfied: six>=1.5 in ./.venv/lib64/python3.13/site-packages (from python-dateutil>=2.7->matplotlib) (1.17.0)\n",
      "Requirement already satisfied: numpy in ./.venv/lib64/python3.13/site-packages (2.2.3)\n",
      "Requirement already satisfied: seaborn in ./.venv/lib64/python3.13/site-packages (0.13.2)\n",
      "Requirement already satisfied: numpy!=1.24.0,>=1.20 in ./.venv/lib64/python3.13/site-packages (from seaborn) (2.2.3)\n",
      "Requirement already satisfied: pandas>=1.2 in ./.venv/lib64/python3.13/site-packages (from seaborn) (2.2.3)\n",
      "Requirement already satisfied: matplotlib!=3.6.1,>=3.4 in ./.venv/lib64/python3.13/site-packages (from seaborn) (3.10.1)\n",
      "Requirement already satisfied: contourpy>=1.0.1 in ./.venv/lib64/python3.13/site-packages (from matplotlib!=3.6.1,>=3.4->seaborn) (1.3.1)\n",
      "Requirement already satisfied: cycler>=0.10 in ./.venv/lib64/python3.13/site-packages (from matplotlib!=3.6.1,>=3.4->seaborn) (0.12.1)\n",
      "Requirement already satisfied: fonttools>=4.22.0 in ./.venv/lib64/python3.13/site-packages (from matplotlib!=3.6.1,>=3.4->seaborn) (4.56.0)\n",
      "Requirement already satisfied: kiwisolver>=1.3.1 in ./.venv/lib64/python3.13/site-packages (from matplotlib!=3.6.1,>=3.4->seaborn) (1.4.8)\n",
      "Requirement already satisfied: packaging>=20.0 in ./.venv/lib64/python3.13/site-packages (from matplotlib!=3.6.1,>=3.4->seaborn) (24.2)\n",
      "Requirement already satisfied: pillow>=8 in ./.venv/lib64/python3.13/site-packages (from matplotlib!=3.6.1,>=3.4->seaborn) (11.1.0)\n",
      "Requirement already satisfied: pyparsing>=2.3.1 in ./.venv/lib64/python3.13/site-packages (from matplotlib!=3.6.1,>=3.4->seaborn) (3.2.1)\n",
      "Requirement already satisfied: python-dateutil>=2.7 in ./.venv/lib64/python3.13/site-packages (from matplotlib!=3.6.1,>=3.4->seaborn) (2.9.0.post0)\n",
      "Requirement already satisfied: pytz>=2020.1 in ./.venv/lib64/python3.13/site-packages (from pandas>=1.2->seaborn) (2025.1)\n",
      "Requirement already satisfied: tzdata>=2022.7 in ./.venv/lib64/python3.13/site-packages (from pandas>=1.2->seaborn) (2025.1)\n",
      "Requirement already satisfied: six>=1.5 in ./.venv/lib64/python3.13/site-packages (from python-dateutil>=2.7->matplotlib!=3.6.1,>=3.4->seaborn) (1.17.0)\n"
     ]
    }
   ],
   "source": [
    "!pip install pandas\n",
    "!pip install matplotlib\n",
    "!pip install numpy\n",
    "!pip install seaborn\n",
    "\n",
    "import pandas as pd\n",
    "from matplotlib import pyplot as plt\n",
    "import numpy as np\n",
    "import seaborn as sns\n",
    "\n"
   ]
  },
  {
   "cell_type": "code",
   "execution_count": 24,
   "metadata": {},
   "outputs": [
    {
     "data": {
      "application/vnd.microsoft.datawrangler.viewer.v0+json": {
       "columns": [
        {
         "name": "index",
         "rawType": "int64",
         "type": "integer"
        },
        {
         "name": "GENDER",
         "rawType": "int64",
         "type": "integer"
        },
        {
         "name": "BIRTHYEAR",
         "rawType": "int64",
         "type": "integer"
        },
        {
         "name": "AGE_T1",
         "rawType": "int64",
         "type": "integer"
        },
        {
         "name": "AGE_T2",
         "rawType": "int64",
         "type": "integer"
        },
        {
         "name": "AGE_T3",
         "rawType": "int64",
         "type": "integer"
        },
        {
         "name": "ZIP_CODE",
         "rawType": "int64",
         "type": "integer"
        },
        {
         "name": "BMI_T1",
         "rawType": "float64",
         "type": "float"
        },
        {
         "name": "WEIGHT_T1",
         "rawType": "float64",
         "type": "float"
        },
        {
         "name": "HIP_T1",
         "rawType": "float64",
         "type": "float"
        },
        {
         "name": "HEIGHT_T1",
         "rawType": "float64",
         "type": "float"
        },
        {
         "name": "WAIST_T1",
         "rawType": "float64",
         "type": "float"
        },
        {
         "name": "BMI_T2",
         "rawType": "float64",
         "type": "float"
        },
        {
         "name": "WEIGHT_T2",
         "rawType": "float64",
         "type": "float"
        },
        {
         "name": "HIP_T2",
         "rawType": "float64",
         "type": "float"
        },
        {
         "name": "HEIGHT_T2",
         "rawType": "float64",
         "type": "float"
        },
        {
         "name": "WAIST_T2",
         "rawType": "float64",
         "type": "float"
        },
        {
         "name": "HEIGHT_T3",
         "rawType": "float64",
         "type": "float"
        },
        {
         "name": "WEIGHT_T3",
         "rawType": "float64",
         "type": "float"
        },
        {
         "name": "HIP_T3",
         "rawType": "float64",
         "type": "float"
        },
        {
         "name": "WAIST_T3",
         "rawType": "float64",
         "type": "float"
        },
        {
         "name": "EDUCATION_LOWER_T1",
         "rawType": "float64",
         "type": "float"
        },
        {
         "name": "EDUCATION_LOWER_T2",
         "rawType": "float64",
         "type": "float"
        },
        {
         "name": "FINANCE_T1",
         "rawType": "int64",
         "type": "integer"
        },
        {
         "name": "WORK_T1",
         "rawType": "float64",
         "type": "float"
        },
        {
         "name": "WORK_T2",
         "rawType": "float64",
         "type": "float"
        },
        {
         "name": "LOW_QUALITY_OF_LIFE_T1",
         "rawType": "float64",
         "type": "float"
        },
        {
         "name": "LOW_QUALITY_OF_LIFE_T2",
         "rawType": "float64",
         "type": "float"
        },
        {
         "name": "DBP_T1",
         "rawType": "float64",
         "type": "float"
        },
        {
         "name": "DBP_T2",
         "rawType": "float64",
         "type": "float"
        },
        {
         "name": "HBF_T1",
         "rawType": "float64",
         "type": "float"
        },
        {
         "name": "HBF_T2",
         "rawType": "float64",
         "type": "float"
        },
        {
         "name": "MAP_T1",
         "rawType": "float64",
         "type": "float"
        },
        {
         "name": "MAP_T2",
         "rawType": "float64",
         "type": "float"
        },
        {
         "name": "SBP_T1",
         "rawType": "float64",
         "type": "float"
        },
        {
         "name": "SBP_T2",
         "rawType": "float64",
         "type": "float"
        },
        {
         "name": "HTN_MED_T1",
         "rawType": "float64",
         "type": "float"
        },
        {
         "name": "CHO_T1",
         "rawType": "float64",
         "type": "float"
        },
        {
         "name": "GLU_T1",
         "rawType": "float64",
         "type": "float"
        },
        {
         "name": "CHO_T2",
         "rawType": "float64",
         "type": "float"
        },
        {
         "name": "GLU_T2",
         "rawType": "float64",
         "type": "float"
        },
        {
         "name": "RESPIRATORY_DISEASE_T1",
         "rawType": "float64",
         "type": "float"
        },
        {
         "name": "SMOKING",
         "rawType": "float64",
         "type": "float"
        },
        {
         "name": "METABOLIC_DISORDER_T1",
         "rawType": "float64",
         "type": "float"
        },
        {
         "name": "METABOLIC_DISORDER_T2",
         "rawType": "float64",
         "type": "float"
        },
        {
         "name": "LLDS",
         "rawType": "float64",
         "type": "float"
        },
        {
         "name": "SUMOFALCOHOL",
         "rawType": "float64",
         "type": "float"
        },
        {
         "name": "SUMOFKCAL",
         "rawType": "float64",
         "type": "float"
        },
        {
         "name": "MWK_VAL",
         "rawType": "float64",
         "type": "float"
        },
        {
         "name": "SCOR_VAL",
         "rawType": "float64",
         "type": "float"
        },
        {
         "name": "MWK_NO_VAL",
         "rawType": "float64",
         "type": "float"
        },
        {
         "name": "SCOR_NO_VAL",
         "rawType": "float64",
         "type": "float"
        },
        {
         "name": "SPORTS_T1",
         "rawType": "float64",
         "type": "float"
        },
        {
         "name": "CYCLE_COMMUTE_T1",
         "rawType": "float64",
         "type": "float"
        },
        {
         "name": "VOLUNTEER_T1",
         "rawType": "float64",
         "type": "float"
        },
        {
         "name": "PREGNANCIES",
         "rawType": "float64",
         "type": "float"
        },
        {
         "name": "OSTEOARTHRITIS",
         "rawType": "int64",
         "type": "integer"
        },
        {
         "name": "BURNOUT_T1",
         "rawType": "int64",
         "type": "integer"
        },
        {
         "name": "DEPRESSION_T1",
         "rawType": "int64",
         "type": "integer"
        },
        {
         "name": "SLEEP_QUALITY",
         "rawType": "float64",
         "type": "float"
        },
        {
         "name": "DIAG_CFS_CDC",
         "rawType": "float64",
         "type": "float"
        },
        {
         "name": "DIAG_FIBROMYALGIA_ACR",
         "rawType": "float64",
         "type": "float"
        },
        {
         "name": "DIAG_IBS_ROME3",
         "rawType": "float64",
         "type": "float"
        },
        {
         "name": "C_SUM_T1",
         "rawType": "float64",
         "type": "float"
        },
        {
         "name": "A_SUM_T1",
         "rawType": "float64",
         "type": "float"
        },
        {
         "name": "SC_SUM_T1",
         "rawType": "float64",
         "type": "float"
        },
        {
         "name": "I_SUM_T1",
         "rawType": "float64",
         "type": "float"
        },
        {
         "name": "E_SUM_T1",
         "rawType": "float64",
         "type": "float"
        },
        {
         "name": "SD_SUM_T1",
         "rawType": "float64",
         "type": "float"
        },
        {
         "name": "V_SUM_T1",
         "rawType": "float64",
         "type": "float"
        },
        {
         "name": "D_SUM_T1",
         "rawType": "float64",
         "type": "float"
        },
        {
         "name": "LTE_SUM_T1",
         "rawType": "float64",
         "type": "float"
        },
        {
         "name": "LDI_SUM_T1",
         "rawType": "float64",
         "type": "float"
        },
        {
         "name": "LTE_SUM_T2",
         "rawType": "float64",
         "type": "float"
        },
        {
         "name": "LDI_SUM_T2",
         "rawType": "float64",
         "type": "float"
        },
        {
         "name": "NSES_YEAR",
         "rawType": "int64",
         "type": "integer"
        },
        {
         "name": "NSES",
         "rawType": "float64",
         "type": "float"
        },
        {
         "name": "NEIGHBOURHOOD1_T2",
         "rawType": "float64",
         "type": "float"
        },
        {
         "name": "NEIGHBOURHOOD2_T2",
         "rawType": "float64",
         "type": "float"
        },
        {
         "name": "NEIGHBOURHOOD3_T2",
         "rawType": "float64",
         "type": "float"
        },
        {
         "name": "NEIGHBOURHOOD4_T2",
         "rawType": "float64",
         "type": "float"
        },
        {
         "name": "NEIGHBOURHOOD5_T2",
         "rawType": "float64",
         "type": "float"
        },
        {
         "name": "NEIGHBOURHOOD6_T2",
         "rawType": "float64",
         "type": "float"
        },
        {
         "name": "MENTAL_DISORDER_T1",
         "rawType": "float64",
         "type": "float"
        },
        {
         "name": "MENTAL_DISORDER_T2",
         "rawType": "float64",
         "type": "float"
        }
       ],
       "conversionMethod": "pd.DataFrame",
       "ref": "06d41d47-7ced-4eb5-93fd-0d72e0330e4c",
       "rows": [
        [
         "1",
         "2",
         "1960",
         "52",
         "55",
         "59",
         "9903",
         "21.9",
         "70.0",
         "91.0",
         "178.5",
         "81.0",
         "21.9",
         "70.0",
         "97.0",
         "177.0",
         "80.0",
         "175.5",
         "67.8",
         "84.5",
         "81.0",
         "1.0",
         "1.0",
         "7",
         "1.0",
         "1.0",
         "0.0",
         "0.0",
         "68.0",
         "73.0",
         "76.0",
         "78.0",
         "90.0",
         "92.0",
         "125.0",
         "123.0",
         "0.0",
         "5.0",
         "5.1",
         "4.7",
         "4.8",
         "0.0",
         "0.0",
         "0.0",
         "0.0",
         "23.0",
         "2.51",
         "2211.74",
         "605.0",
         "2940.0",
         "440.0",
         "2940.0",
         "1.0",
         "1.0",
         "0.0",
         "3.0",
         "0",
         "0",
         "0",
         null,
         "0.0",
         "0.0",
         "0.0",
         "26.0",
         "22.0",
         "22.0",
         "29.0",
         "19.0",
         "32.0",
         "25.0",
         "30.0",
         "2.0",
         "8.0",
         "0.0",
         "4.0",
         "2010",
         "-0.148238051",
         "8.0",
         "1.0",
         "3.0",
         "5.0",
         "3.0",
         "4.0",
         "0.0",
         "0.0"
        ],
        [
         "2",
         "2",
         "1964",
         "48",
         "51",
         "57",
         "8411",
         "20.9",
         "62.0",
         "93.0",
         "172.5",
         "79.0",
         "20.6",
         "60.0",
         "92.0",
         "172.0",
         "75.0",
         "170.0",
         "60.9",
         "91.0",
         "74.5",
         "0.0",
         "0.0",
         "8",
         "1.0",
         "1.0",
         "0.0",
         "0.0",
         "82.0",
         "82.0",
         "74.0",
         "59.0",
         "97.0",
         "101.0",
         "125.0",
         "133.0",
         "0.0",
         "5.8",
         "4.8",
         "6.0",
         "4.4",
         "0.0",
         "0.0",
         "0.0",
         "0.0",
         "27.0",
         "6.72",
         "2200.96",
         "470.0",
         "3240.0",
         "470.0",
         "3240.0",
         "1.0",
         "1.0",
         "0.0",
         "2.0",
         "0",
         "0",
         "0",
         "0.0",
         "0.0",
         "0.0",
         "0.0",
         "26.0",
         "17.0",
         "17.0",
         "31.0",
         "22.0",
         "24.0",
         "22.0",
         "18.0",
         "0.0",
         "4.0",
         "3.0",
         "4.0",
         "2010",
         "0.357412786",
         "10.0",
         "1.0",
         "1.0",
         "1.0",
         "5.0",
         "5.0",
         "0.0",
         "0.0"
        ],
        [
         "3",
         "2",
         "1951",
         "58",
         "62",
         "68",
         "9101",
         "24.6",
         "71.0",
         "104.0",
         "170.0",
         "97.0",
         "25.6",
         "74.0",
         "104.0",
         "168.0",
         "95.0",
         "168.5",
         "74.0",
         "106.0",
         "96.0",
         "0.0",
         "0.0",
         "10",
         "1.0",
         "1.0",
         "0.0",
         "0.0",
         "70.0",
         "74.0",
         "66.0",
         "68.0",
         "93.0",
         "108.0",
         "135.0",
         "168.0",
         "0.0",
         "4.9",
         "4.7",
         "5.0",
         "4.9",
         "0.0",
         "0.0",
         "0.0",
         "0.0",
         "37.0",
         null,
         null,
         "75.0",
         "255.0",
         "75.0",
         "250.0",
         "1.0",
         "1.0",
         "1.0",
         "2.0",
         "0",
         "0",
         "0",
         null,
         "0.0",
         "0.0",
         "0.0",
         "31.0",
         "22.0",
         "18.0",
         "25.0",
         "20.0",
         "31.0",
         "16.0",
         "29.0",
         "1.0",
         "0.0",
         "0.0",
         "1.0",
         "2010",
         "-1.730365772",
         "9.0",
         "1.0",
         "2.0",
         "2.0",
         "3.0",
         "4.0",
         "0.0",
         "0.0"
        ],
        [
         "4",
         "1",
         "1958",
         "54",
         "57",
         "61",
         "9761",
         "25.0",
         "70.5",
         "95.0",
         "169.5",
         "82.0",
         "25.2",
         "72.0",
         "98.0",
         "168.0",
         "91.0",
         "168.5",
         "81.9",
         "97.0",
         "92.0",
         "1.0",
         "1.0",
         "5",
         "1.0",
         "1.0",
         "0.0",
         "0.0",
         "75.0",
         "72.0",
         "83.0",
         "72.0",
         "90.0",
         "91.0",
         "119.0",
         "120.0",
         "0.0",
         "5.1",
         "5.0",
         "5.9",
         "4.9",
         "0.0",
         "0.0",
         "0.0",
         "0.0",
         "30.0",
         "5.86",
         "1113.84",
         "625.0",
         "3000.0",
         "660.0",
         "3000.0",
         "0.0",
         "1.0",
         "1.0",
         null,
         "0",
         "0",
         "0",
         null,
         "0.0",
         "0.0",
         "0.0",
         "33.0",
         "13.0",
         "25.0",
         "19.0",
         "23.0",
         "31.0",
         "21.0",
         "35.0",
         "0.0",
         "0.0",
         "1.0",
         "0.0",
         "2010",
         "0.106611936",
         "8.0",
         "2.0",
         "1.0",
         "1.0",
         "5.0",
         "5.0",
         "0.0",
         "0.0"
        ],
        [
         "5",
         "2",
         "1963",
         "45",
         "50",
         "57",
         "9201",
         "24.0",
         "61.0",
         "95.0",
         "159.8",
         "87.0",
         "24.5",
         "64.5",
         "97.0",
         "159.0",
         "85.0",
         "159.1",
         "66.4",
         "96.0",
         "87.0",
         "0.0",
         "0.0",
         "5",
         null,
         "1.0",
         "0.0",
         "0.0",
         "75.0",
         "66.0",
         "67.0",
         "66.0",
         "91.0",
         "86.0",
         "121.0",
         "114.0",
         "0.0",
         "3.8",
         "4.2",
         "3.5",
         "4.7",
         "0.0",
         "1.0",
         "0.0",
         "0.0",
         null,
         null,
         null,
         "0.0",
         "0.0",
         "0.0",
         "0.0",
         "0.0",
         "0.0",
         "1.0",
         "2.0",
         "0",
         "0",
         "0",
         "0.0",
         "0.0",
         "0.0",
         "0.0",
         null,
         "9.0",
         "12.0",
         "19.0",
         "18.0",
         "38.0",
         "12.0",
         "33.0",
         "0.0",
         "0.0",
         "0.0",
         "0.0",
         "2006",
         "-1.004380788",
         "9.0",
         "4.0",
         "1.0",
         "1.0",
         "5.0",
         "5.0",
         "0.0",
         "0.0"
        ]
       ],
       "shape": {
        "columns": 84,
        "rows": 5
       }
      },
      "text/html": [
       "<div>\n",
       "<style scoped>\n",
       "    .dataframe tbody tr th:only-of-type {\n",
       "        vertical-align: middle;\n",
       "    }\n",
       "\n",
       "    .dataframe tbody tr th {\n",
       "        vertical-align: top;\n",
       "    }\n",
       "\n",
       "    .dataframe thead th {\n",
       "        text-align: right;\n",
       "    }\n",
       "</style>\n",
       "<table border=\"1\" class=\"dataframe\">\n",
       "  <thead>\n",
       "    <tr style=\"text-align: right;\">\n",
       "      <th></th>\n",
       "      <th>GENDER</th>\n",
       "      <th>BIRTHYEAR</th>\n",
       "      <th>AGE_T1</th>\n",
       "      <th>AGE_T2</th>\n",
       "      <th>AGE_T3</th>\n",
       "      <th>ZIP_CODE</th>\n",
       "      <th>BMI_T1</th>\n",
       "      <th>WEIGHT_T1</th>\n",
       "      <th>HIP_T1</th>\n",
       "      <th>HEIGHT_T1</th>\n",
       "      <th>...</th>\n",
       "      <th>NSES_YEAR</th>\n",
       "      <th>NSES</th>\n",
       "      <th>NEIGHBOURHOOD1_T2</th>\n",
       "      <th>NEIGHBOURHOOD2_T2</th>\n",
       "      <th>NEIGHBOURHOOD3_T2</th>\n",
       "      <th>NEIGHBOURHOOD4_T2</th>\n",
       "      <th>NEIGHBOURHOOD5_T2</th>\n",
       "      <th>NEIGHBOURHOOD6_T2</th>\n",
       "      <th>MENTAL_DISORDER_T1</th>\n",
       "      <th>MENTAL_DISORDER_T2</th>\n",
       "    </tr>\n",
       "  </thead>\n",
       "  <tbody>\n",
       "    <tr>\n",
       "      <th>1</th>\n",
       "      <td>2</td>\n",
       "      <td>1960</td>\n",
       "      <td>52</td>\n",
       "      <td>55</td>\n",
       "      <td>59</td>\n",
       "      <td>9903</td>\n",
       "      <td>21.9</td>\n",
       "      <td>70.0</td>\n",
       "      <td>91.0</td>\n",
       "      <td>178.5</td>\n",
       "      <td>...</td>\n",
       "      <td>2010</td>\n",
       "      <td>-0.148238</td>\n",
       "      <td>8.0</td>\n",
       "      <td>1.0</td>\n",
       "      <td>3.0</td>\n",
       "      <td>5.0</td>\n",
       "      <td>3.0</td>\n",
       "      <td>4.0</td>\n",
       "      <td>0.0</td>\n",
       "      <td>0.0</td>\n",
       "    </tr>\n",
       "    <tr>\n",
       "      <th>2</th>\n",
       "      <td>2</td>\n",
       "      <td>1964</td>\n",
       "      <td>48</td>\n",
       "      <td>51</td>\n",
       "      <td>57</td>\n",
       "      <td>8411</td>\n",
       "      <td>20.9</td>\n",
       "      <td>62.0</td>\n",
       "      <td>93.0</td>\n",
       "      <td>172.5</td>\n",
       "      <td>...</td>\n",
       "      <td>2010</td>\n",
       "      <td>0.357413</td>\n",
       "      <td>10.0</td>\n",
       "      <td>1.0</td>\n",
       "      <td>1.0</td>\n",
       "      <td>1.0</td>\n",
       "      <td>5.0</td>\n",
       "      <td>5.0</td>\n",
       "      <td>0.0</td>\n",
       "      <td>0.0</td>\n",
       "    </tr>\n",
       "    <tr>\n",
       "      <th>3</th>\n",
       "      <td>2</td>\n",
       "      <td>1951</td>\n",
       "      <td>58</td>\n",
       "      <td>62</td>\n",
       "      <td>68</td>\n",
       "      <td>9101</td>\n",
       "      <td>24.6</td>\n",
       "      <td>71.0</td>\n",
       "      <td>104.0</td>\n",
       "      <td>170.0</td>\n",
       "      <td>...</td>\n",
       "      <td>2010</td>\n",
       "      <td>-1.730366</td>\n",
       "      <td>9.0</td>\n",
       "      <td>1.0</td>\n",
       "      <td>2.0</td>\n",
       "      <td>2.0</td>\n",
       "      <td>3.0</td>\n",
       "      <td>4.0</td>\n",
       "      <td>0.0</td>\n",
       "      <td>0.0</td>\n",
       "    </tr>\n",
       "    <tr>\n",
       "      <th>4</th>\n",
       "      <td>1</td>\n",
       "      <td>1958</td>\n",
       "      <td>54</td>\n",
       "      <td>57</td>\n",
       "      <td>61</td>\n",
       "      <td>9761</td>\n",
       "      <td>25.0</td>\n",
       "      <td>70.5</td>\n",
       "      <td>95.0</td>\n",
       "      <td>169.5</td>\n",
       "      <td>...</td>\n",
       "      <td>2010</td>\n",
       "      <td>0.106612</td>\n",
       "      <td>8.0</td>\n",
       "      <td>2.0</td>\n",
       "      <td>1.0</td>\n",
       "      <td>1.0</td>\n",
       "      <td>5.0</td>\n",
       "      <td>5.0</td>\n",
       "      <td>0.0</td>\n",
       "      <td>0.0</td>\n",
       "    </tr>\n",
       "    <tr>\n",
       "      <th>5</th>\n",
       "      <td>2</td>\n",
       "      <td>1963</td>\n",
       "      <td>45</td>\n",
       "      <td>50</td>\n",
       "      <td>57</td>\n",
       "      <td>9201</td>\n",
       "      <td>24.0</td>\n",
       "      <td>61.0</td>\n",
       "      <td>95.0</td>\n",
       "      <td>159.8</td>\n",
       "      <td>...</td>\n",
       "      <td>2006</td>\n",
       "      <td>-1.004381</td>\n",
       "      <td>9.0</td>\n",
       "      <td>4.0</td>\n",
       "      <td>1.0</td>\n",
       "      <td>1.0</td>\n",
       "      <td>5.0</td>\n",
       "      <td>5.0</td>\n",
       "      <td>0.0</td>\n",
       "      <td>0.0</td>\n",
       "    </tr>\n",
       "  </tbody>\n",
       "</table>\n",
       "<p>5 rows × 84 columns</p>\n",
       "</div>"
      ],
      "text/plain": [
       "   GENDER  BIRTHYEAR  AGE_T1  AGE_T2  AGE_T3  ZIP_CODE  BMI_T1  WEIGHT_T1  \\\n",
       "1       2       1960      52      55      59      9903    21.9       70.0   \n",
       "2       2       1964      48      51      57      8411    20.9       62.0   \n",
       "3       2       1951      58      62      68      9101    24.6       71.0   \n",
       "4       1       1958      54      57      61      9761    25.0       70.5   \n",
       "5       2       1963      45      50      57      9201    24.0       61.0   \n",
       "\n",
       "   HIP_T1  HEIGHT_T1  ...  NSES_YEAR      NSES  NEIGHBOURHOOD1_T2  \\\n",
       "1    91.0      178.5  ...       2010 -0.148238                8.0   \n",
       "2    93.0      172.5  ...       2010  0.357413               10.0   \n",
       "3   104.0      170.0  ...       2010 -1.730366                9.0   \n",
       "4    95.0      169.5  ...       2010  0.106612                8.0   \n",
       "5    95.0      159.8  ...       2006 -1.004381                9.0   \n",
       "\n",
       "   NEIGHBOURHOOD2_T2  NEIGHBOURHOOD3_T2  NEIGHBOURHOOD4_T2  NEIGHBOURHOOD5_T2  \\\n",
       "1                1.0                3.0                5.0                3.0   \n",
       "2                1.0                1.0                1.0                5.0   \n",
       "3                1.0                2.0                2.0                3.0   \n",
       "4                2.0                1.0                1.0                5.0   \n",
       "5                4.0                1.0                1.0                5.0   \n",
       "\n",
       "   NEIGHBOURHOOD6_T2  MENTAL_DISORDER_T1  MENTAL_DISORDER_T2  \n",
       "1                4.0                 0.0                 0.0  \n",
       "2                5.0                 0.0                 0.0  \n",
       "3                4.0                 0.0                 0.0  \n",
       "4                5.0                 0.0                 0.0  \n",
       "5                5.0                 0.0                 0.0  \n",
       "\n",
       "[5 rows x 84 columns]"
      ]
     },
     "execution_count": 24,
     "metadata": {},
     "output_type": "execute_result"
    }
   ],
   "source": [
    "lifelines_df = pd.read_csv(\"/home/floris/Documenten/Github/Lifelines_Classifier/data/Lifelines_Public_Health_dataset_2024.csv\")\n",
    "lifelines_df.index += 1\n",
    "\n",
    "lifelines_df.head()"
   ]
  },
  {
   "cell_type": "code",
   "execution_count": 25,
   "metadata": {},
   "outputs": [
    {
     "data": {
      "application/vnd.microsoft.datawrangler.viewer.v0+json": {
       "columns": [
        {
         "name": "index",
         "rawType": "int64",
         "type": "integer"
        },
        {
         "name": "GENDER",
         "rawType": "object",
         "type": "string"
        },
        {
         "name": "BIRTHYEAR",
         "rawType": "int64",
         "type": "integer"
        },
        {
         "name": "AGE_T1",
         "rawType": "int64",
         "type": "integer"
        },
        {
         "name": "AGE_T2",
         "rawType": "int64",
         "type": "integer"
        },
        {
         "name": "AGE_T3",
         "rawType": "int64",
         "type": "integer"
        },
        {
         "name": "ZIP_CODE",
         "rawType": "int64",
         "type": "integer"
        },
        {
         "name": "BMI_T1",
         "rawType": "float64",
         "type": "float"
        },
        {
         "name": "WEIGHT_T1",
         "rawType": "float64",
         "type": "float"
        },
        {
         "name": "HIP_T1",
         "rawType": "float64",
         "type": "float"
        },
        {
         "name": "HEIGHT_T1",
         "rawType": "float64",
         "type": "float"
        },
        {
         "name": "WAIST_T1",
         "rawType": "float64",
         "type": "float"
        },
        {
         "name": "BMI_T2",
         "rawType": "float64",
         "type": "float"
        },
        {
         "name": "WEIGHT_T2",
         "rawType": "float64",
         "type": "float"
        },
        {
         "name": "HIP_T2",
         "rawType": "float64",
         "type": "float"
        },
        {
         "name": "HEIGHT_T2",
         "rawType": "float64",
         "type": "float"
        },
        {
         "name": "WAIST_T2",
         "rawType": "float64",
         "type": "float"
        },
        {
         "name": "HEIGHT_T3",
         "rawType": "float64",
         "type": "float"
        },
        {
         "name": "WEIGHT_T3",
         "rawType": "float64",
         "type": "float"
        },
        {
         "name": "HIP_T3",
         "rawType": "float64",
         "type": "float"
        },
        {
         "name": "WAIST_T3",
         "rawType": "float64",
         "type": "float"
        },
        {
         "name": "EDUCATION_LOWER_T1",
         "rawType": "float64",
         "type": "float"
        },
        {
         "name": "EDUCATION_LOWER_T2",
         "rawType": "float64",
         "type": "float"
        },
        {
         "name": "FINANCE_T1",
         "rawType": "int64",
         "type": "integer"
        },
        {
         "name": "WORK_T1",
         "rawType": "float64",
         "type": "float"
        },
        {
         "name": "WORK_T2",
         "rawType": "float64",
         "type": "float"
        },
        {
         "name": "LOW_QUALITY_OF_LIFE_T1",
         "rawType": "float64",
         "type": "float"
        },
        {
         "name": "LOW_QUALITY_OF_LIFE_T2",
         "rawType": "float64",
         "type": "float"
        },
        {
         "name": "DBP_T1",
         "rawType": "float64",
         "type": "float"
        },
        {
         "name": "DBP_T2",
         "rawType": "float64",
         "type": "float"
        },
        {
         "name": "HBF_T1",
         "rawType": "float64",
         "type": "float"
        },
        {
         "name": "HBF_T2",
         "rawType": "float64",
         "type": "float"
        },
        {
         "name": "MAP_T1",
         "rawType": "float64",
         "type": "float"
        },
        {
         "name": "MAP_T2",
         "rawType": "float64",
         "type": "float"
        },
        {
         "name": "SBP_T1",
         "rawType": "float64",
         "type": "float"
        },
        {
         "name": "SBP_T2",
         "rawType": "float64",
         "type": "float"
        },
        {
         "name": "HTN_MED_T1",
         "rawType": "float64",
         "type": "float"
        },
        {
         "name": "CHO_T1",
         "rawType": "float64",
         "type": "float"
        },
        {
         "name": "GLU_T1",
         "rawType": "float64",
         "type": "float"
        },
        {
         "name": "CHO_T2",
         "rawType": "float64",
         "type": "float"
        },
        {
         "name": "GLU_T2",
         "rawType": "float64",
         "type": "float"
        },
        {
         "name": "RESPIRATORY_DISEASE_T1",
         "rawType": "float64",
         "type": "float"
        },
        {
         "name": "SMOKING",
         "rawType": "float64",
         "type": "float"
        },
        {
         "name": "METABOLIC_DISORDER_T1",
         "rawType": "float64",
         "type": "float"
        },
        {
         "name": "METABOLIC_DISORDER_T2",
         "rawType": "float64",
         "type": "float"
        },
        {
         "name": "LLDS",
         "rawType": "float64",
         "type": "float"
        },
        {
         "name": "SUMOFALCOHOL",
         "rawType": "float64",
         "type": "float"
        },
        {
         "name": "SUMOFKCAL",
         "rawType": "float64",
         "type": "float"
        },
        {
         "name": "MWK_VAL",
         "rawType": "float64",
         "type": "float"
        },
        {
         "name": "SCOR_VAL",
         "rawType": "float64",
         "type": "float"
        },
        {
         "name": "MWK_NO_VAL",
         "rawType": "float64",
         "type": "float"
        },
        {
         "name": "SCOR_NO_VAL",
         "rawType": "float64",
         "type": "float"
        },
        {
         "name": "SPORTS_T1",
         "rawType": "float64",
         "type": "float"
        },
        {
         "name": "CYCLE_COMMUTE_T1",
         "rawType": "float64",
         "type": "float"
        },
        {
         "name": "VOLUNTEER_T1",
         "rawType": "float64",
         "type": "float"
        },
        {
         "name": "PREGNANCIES",
         "rawType": "float64",
         "type": "float"
        },
        {
         "name": "OSTEOARTHRITIS",
         "rawType": "int64",
         "type": "integer"
        },
        {
         "name": "BURNOUT_T1",
         "rawType": "int64",
         "type": "integer"
        },
        {
         "name": "DEPRESSION_T1",
         "rawType": "int64",
         "type": "integer"
        },
        {
         "name": "SLEEP_QUALITY",
         "rawType": "float64",
         "type": "float"
        },
        {
         "name": "DIAG_CFS_CDC",
         "rawType": "float64",
         "type": "float"
        },
        {
         "name": "DIAG_FIBROMYALGIA_ACR",
         "rawType": "float64",
         "type": "float"
        },
        {
         "name": "DIAG_IBS_ROME3",
         "rawType": "float64",
         "type": "float"
        },
        {
         "name": "C_SUM_T1",
         "rawType": "float64",
         "type": "float"
        },
        {
         "name": "A_SUM_T1",
         "rawType": "float64",
         "type": "float"
        },
        {
         "name": "SC_SUM_T1",
         "rawType": "float64",
         "type": "float"
        },
        {
         "name": "I_SUM_T1",
         "rawType": "float64",
         "type": "float"
        },
        {
         "name": "E_SUM_T1",
         "rawType": "float64",
         "type": "float"
        },
        {
         "name": "SD_SUM_T1",
         "rawType": "float64",
         "type": "float"
        },
        {
         "name": "V_SUM_T1",
         "rawType": "float64",
         "type": "float"
        },
        {
         "name": "D_SUM_T1",
         "rawType": "float64",
         "type": "float"
        },
        {
         "name": "LTE_SUM_T1",
         "rawType": "float64",
         "type": "float"
        },
        {
         "name": "LDI_SUM_T1",
         "rawType": "float64",
         "type": "float"
        },
        {
         "name": "LTE_SUM_T2",
         "rawType": "float64",
         "type": "float"
        },
        {
         "name": "LDI_SUM_T2",
         "rawType": "float64",
         "type": "float"
        },
        {
         "name": "NSES_YEAR",
         "rawType": "int64",
         "type": "integer"
        },
        {
         "name": "NSES",
         "rawType": "float64",
         "type": "float"
        },
        {
         "name": "NEIGHBOURHOOD1_T2",
         "rawType": "float64",
         "type": "float"
        },
        {
         "name": "NEIGHBOURHOOD2_T2",
         "rawType": "float64",
         "type": "float"
        },
        {
         "name": "NEIGHBOURHOOD3_T2",
         "rawType": "float64",
         "type": "float"
        },
        {
         "name": "NEIGHBOURHOOD4_T2",
         "rawType": "float64",
         "type": "float"
        },
        {
         "name": "NEIGHBOURHOOD5_T2",
         "rawType": "float64",
         "type": "float"
        },
        {
         "name": "NEIGHBOURHOOD6_T2",
         "rawType": "float64",
         "type": "float"
        },
        {
         "name": "MENTAL_DISORDER_T1",
         "rawType": "float64",
         "type": "float"
        },
        {
         "name": "MENTAL_DISORDER_T2",
         "rawType": "float64",
         "type": "float"
        }
       ],
       "conversionMethod": "pd.DataFrame",
       "ref": "495b4b8e-aba5-4356-a102-3a375698830c",
       "rows": [
        [
         "1",
         "F",
         "1960",
         "52",
         "55",
         "59",
         "9903",
         "21.9",
         "70.0",
         "91.0",
         "178.5",
         "81.0",
         "21.9",
         "70.0",
         "97.0",
         "177.0",
         "80.0",
         "175.5",
         "67.8",
         "84.5",
         "81.0",
         "1.0",
         "1.0",
         "7",
         "1.0",
         "1.0",
         "0.0",
         "0.0",
         "68.0",
         "73.0",
         "76.0",
         "78.0",
         "90.0",
         "92.0",
         "125.0",
         "123.0",
         "0.0",
         "5.0",
         "5.1",
         "4.7",
         "4.8",
         "0.0",
         "0.0",
         "0.0",
         "0.0",
         "23.0",
         "2.51",
         "2211.74",
         "605.0",
         "2940.0",
         "440.0",
         "2940.0",
         "1.0",
         "1.0",
         "0.0",
         "3.0",
         "0",
         "0",
         "0",
         null,
         "0.0",
         "0.0",
         "0.0",
         "26.0",
         "22.0",
         "22.0",
         "29.0",
         "19.0",
         "32.0",
         "25.0",
         "30.0",
         "2.0",
         "8.0",
         "0.0",
         "4.0",
         "2010",
         "-0.148238051",
         "8.0",
         "1.0",
         "3.0",
         "5.0",
         "3.0",
         "4.0",
         "0.0",
         "0.0"
        ],
        [
         "2",
         "F",
         "1964",
         "48",
         "51",
         "57",
         "8411",
         "20.9",
         "62.0",
         "93.0",
         "172.5",
         "79.0",
         "20.6",
         "60.0",
         "92.0",
         "172.0",
         "75.0",
         "170.0",
         "60.9",
         "91.0",
         "74.5",
         "0.0",
         "0.0",
         "8",
         "1.0",
         "1.0",
         "0.0",
         "0.0",
         "82.0",
         "82.0",
         "74.0",
         "59.0",
         "97.0",
         "101.0",
         "125.0",
         "133.0",
         "0.0",
         "5.8",
         "4.8",
         "6.0",
         "4.4",
         "0.0",
         "0.0",
         "0.0",
         "0.0",
         "27.0",
         "6.72",
         "2200.96",
         "470.0",
         "3240.0",
         "470.0",
         "3240.0",
         "1.0",
         "1.0",
         "0.0",
         "2.0",
         "0",
         "0",
         "0",
         "0.0",
         "0.0",
         "0.0",
         "0.0",
         "26.0",
         "17.0",
         "17.0",
         "31.0",
         "22.0",
         "24.0",
         "22.0",
         "18.0",
         "0.0",
         "4.0",
         "3.0",
         "4.0",
         "2010",
         "0.357412786",
         "10.0",
         "1.0",
         "1.0",
         "1.0",
         "5.0",
         "5.0",
         "0.0",
         "0.0"
        ],
        [
         "3",
         "F",
         "1951",
         "58",
         "62",
         "68",
         "9101",
         "24.6",
         "71.0",
         "104.0",
         "170.0",
         "97.0",
         "25.6",
         "74.0",
         "104.0",
         "168.0",
         "95.0",
         "168.5",
         "74.0",
         "106.0",
         "96.0",
         "0.0",
         "0.0",
         "10",
         "1.0",
         "1.0",
         "0.0",
         "0.0",
         "70.0",
         "74.0",
         "66.0",
         "68.0",
         "93.0",
         "108.0",
         "135.0",
         "168.0",
         "0.0",
         "4.9",
         "4.7",
         "5.0",
         "4.9",
         "0.0",
         "0.0",
         "0.0",
         "0.0",
         "37.0",
         null,
         null,
         "75.0",
         "255.0",
         "75.0",
         "250.0",
         "1.0",
         "1.0",
         "1.0",
         "2.0",
         "0",
         "0",
         "0",
         null,
         "0.0",
         "0.0",
         "0.0",
         "31.0",
         "22.0",
         "18.0",
         "25.0",
         "20.0",
         "31.0",
         "16.0",
         "29.0",
         "1.0",
         "0.0",
         "0.0",
         "1.0",
         "2010",
         "-1.730365772",
         "9.0",
         "1.0",
         "2.0",
         "2.0",
         "3.0",
         "4.0",
         "0.0",
         "0.0"
        ],
        [
         "4",
         "M",
         "1958",
         "54",
         "57",
         "61",
         "9761",
         "25.0",
         "70.5",
         "95.0",
         "169.5",
         "82.0",
         "25.2",
         "72.0",
         "98.0",
         "168.0",
         "91.0",
         "168.5",
         "81.9",
         "97.0",
         "92.0",
         "1.0",
         "1.0",
         "5",
         "1.0",
         "1.0",
         "0.0",
         "0.0",
         "75.0",
         "72.0",
         "83.0",
         "72.0",
         "90.0",
         "91.0",
         "119.0",
         "120.0",
         "0.0",
         "5.1",
         "5.0",
         "5.9",
         "4.9",
         "0.0",
         "0.0",
         "0.0",
         "0.0",
         "30.0",
         "5.86",
         "1113.84",
         "625.0",
         "3000.0",
         "660.0",
         "3000.0",
         "0.0",
         "1.0",
         "1.0",
         null,
         "0",
         "0",
         "0",
         null,
         "0.0",
         "0.0",
         "0.0",
         "33.0",
         "13.0",
         "25.0",
         "19.0",
         "23.0",
         "31.0",
         "21.0",
         "35.0",
         "0.0",
         "0.0",
         "1.0",
         "0.0",
         "2010",
         "0.106611936",
         "8.0",
         "2.0",
         "1.0",
         "1.0",
         "5.0",
         "5.0",
         "0.0",
         "0.0"
        ],
        [
         "5",
         "F",
         "1963",
         "45",
         "50",
         "57",
         "9201",
         "24.0",
         "61.0",
         "95.0",
         "159.8",
         "87.0",
         "24.5",
         "64.5",
         "97.0",
         "159.0",
         "85.0",
         "159.1",
         "66.4",
         "96.0",
         "87.0",
         "0.0",
         "0.0",
         "5",
         null,
         "1.0",
         "0.0",
         "0.0",
         "75.0",
         "66.0",
         "67.0",
         "66.0",
         "91.0",
         "86.0",
         "121.0",
         "114.0",
         "0.0",
         "3.8",
         "4.2",
         "3.5",
         "4.7",
         "0.0",
         "1.0",
         "0.0",
         "0.0",
         null,
         null,
         null,
         "0.0",
         "0.0",
         "0.0",
         "0.0",
         "0.0",
         "0.0",
         "1.0",
         "2.0",
         "0",
         "0",
         "0",
         "0.0",
         "0.0",
         "0.0",
         "0.0",
         null,
         "9.0",
         "12.0",
         "19.0",
         "18.0",
         "38.0",
         "12.0",
         "33.0",
         "0.0",
         "0.0",
         "0.0",
         "0.0",
         "2006",
         "-1.004380788",
         "9.0",
         "4.0",
         "1.0",
         "1.0",
         "5.0",
         "5.0",
         "0.0",
         "0.0"
        ]
       ],
       "shape": {
        "columns": 84,
        "rows": 5
       }
      },
      "text/html": [
       "<div>\n",
       "<style scoped>\n",
       "    .dataframe tbody tr th:only-of-type {\n",
       "        vertical-align: middle;\n",
       "    }\n",
       "\n",
       "    .dataframe tbody tr th {\n",
       "        vertical-align: top;\n",
       "    }\n",
       "\n",
       "    .dataframe thead th {\n",
       "        text-align: right;\n",
       "    }\n",
       "</style>\n",
       "<table border=\"1\" class=\"dataframe\">\n",
       "  <thead>\n",
       "    <tr style=\"text-align: right;\">\n",
       "      <th></th>\n",
       "      <th>GENDER</th>\n",
       "      <th>BIRTHYEAR</th>\n",
       "      <th>AGE_T1</th>\n",
       "      <th>AGE_T2</th>\n",
       "      <th>AGE_T3</th>\n",
       "      <th>ZIP_CODE</th>\n",
       "      <th>BMI_T1</th>\n",
       "      <th>WEIGHT_T1</th>\n",
       "      <th>HIP_T1</th>\n",
       "      <th>HEIGHT_T1</th>\n",
       "      <th>...</th>\n",
       "      <th>NSES_YEAR</th>\n",
       "      <th>NSES</th>\n",
       "      <th>NEIGHBOURHOOD1_T2</th>\n",
       "      <th>NEIGHBOURHOOD2_T2</th>\n",
       "      <th>NEIGHBOURHOOD3_T2</th>\n",
       "      <th>NEIGHBOURHOOD4_T2</th>\n",
       "      <th>NEIGHBOURHOOD5_T2</th>\n",
       "      <th>NEIGHBOURHOOD6_T2</th>\n",
       "      <th>MENTAL_DISORDER_T1</th>\n",
       "      <th>MENTAL_DISORDER_T2</th>\n",
       "    </tr>\n",
       "  </thead>\n",
       "  <tbody>\n",
       "    <tr>\n",
       "      <th>1</th>\n",
       "      <td>F</td>\n",
       "      <td>1960</td>\n",
       "      <td>52</td>\n",
       "      <td>55</td>\n",
       "      <td>59</td>\n",
       "      <td>9903</td>\n",
       "      <td>21.9</td>\n",
       "      <td>70.0</td>\n",
       "      <td>91.0</td>\n",
       "      <td>178.5</td>\n",
       "      <td>...</td>\n",
       "      <td>2010</td>\n",
       "      <td>-0.148238</td>\n",
       "      <td>8.0</td>\n",
       "      <td>1.0</td>\n",
       "      <td>3.0</td>\n",
       "      <td>5.0</td>\n",
       "      <td>3.0</td>\n",
       "      <td>4.0</td>\n",
       "      <td>0.0</td>\n",
       "      <td>0.0</td>\n",
       "    </tr>\n",
       "    <tr>\n",
       "      <th>2</th>\n",
       "      <td>F</td>\n",
       "      <td>1964</td>\n",
       "      <td>48</td>\n",
       "      <td>51</td>\n",
       "      <td>57</td>\n",
       "      <td>8411</td>\n",
       "      <td>20.9</td>\n",
       "      <td>62.0</td>\n",
       "      <td>93.0</td>\n",
       "      <td>172.5</td>\n",
       "      <td>...</td>\n",
       "      <td>2010</td>\n",
       "      <td>0.357413</td>\n",
       "      <td>10.0</td>\n",
       "      <td>1.0</td>\n",
       "      <td>1.0</td>\n",
       "      <td>1.0</td>\n",
       "      <td>5.0</td>\n",
       "      <td>5.0</td>\n",
       "      <td>0.0</td>\n",
       "      <td>0.0</td>\n",
       "    </tr>\n",
       "    <tr>\n",
       "      <th>3</th>\n",
       "      <td>F</td>\n",
       "      <td>1951</td>\n",
       "      <td>58</td>\n",
       "      <td>62</td>\n",
       "      <td>68</td>\n",
       "      <td>9101</td>\n",
       "      <td>24.6</td>\n",
       "      <td>71.0</td>\n",
       "      <td>104.0</td>\n",
       "      <td>170.0</td>\n",
       "      <td>...</td>\n",
       "      <td>2010</td>\n",
       "      <td>-1.730366</td>\n",
       "      <td>9.0</td>\n",
       "      <td>1.0</td>\n",
       "      <td>2.0</td>\n",
       "      <td>2.0</td>\n",
       "      <td>3.0</td>\n",
       "      <td>4.0</td>\n",
       "      <td>0.0</td>\n",
       "      <td>0.0</td>\n",
       "    </tr>\n",
       "    <tr>\n",
       "      <th>4</th>\n",
       "      <td>M</td>\n",
       "      <td>1958</td>\n",
       "      <td>54</td>\n",
       "      <td>57</td>\n",
       "      <td>61</td>\n",
       "      <td>9761</td>\n",
       "      <td>25.0</td>\n",
       "      <td>70.5</td>\n",
       "      <td>95.0</td>\n",
       "      <td>169.5</td>\n",
       "      <td>...</td>\n",
       "      <td>2010</td>\n",
       "      <td>0.106612</td>\n",
       "      <td>8.0</td>\n",
       "      <td>2.0</td>\n",
       "      <td>1.0</td>\n",
       "      <td>1.0</td>\n",
       "      <td>5.0</td>\n",
       "      <td>5.0</td>\n",
       "      <td>0.0</td>\n",
       "      <td>0.0</td>\n",
       "    </tr>\n",
       "    <tr>\n",
       "      <th>5</th>\n",
       "      <td>F</td>\n",
       "      <td>1963</td>\n",
       "      <td>45</td>\n",
       "      <td>50</td>\n",
       "      <td>57</td>\n",
       "      <td>9201</td>\n",
       "      <td>24.0</td>\n",
       "      <td>61.0</td>\n",
       "      <td>95.0</td>\n",
       "      <td>159.8</td>\n",
       "      <td>...</td>\n",
       "      <td>2006</td>\n",
       "      <td>-1.004381</td>\n",
       "      <td>9.0</td>\n",
       "      <td>4.0</td>\n",
       "      <td>1.0</td>\n",
       "      <td>1.0</td>\n",
       "      <td>5.0</td>\n",
       "      <td>5.0</td>\n",
       "      <td>0.0</td>\n",
       "      <td>0.0</td>\n",
       "    </tr>\n",
       "  </tbody>\n",
       "</table>\n",
       "<p>5 rows × 84 columns</p>\n",
       "</div>"
      ],
      "text/plain": [
       "  GENDER  BIRTHYEAR  AGE_T1  AGE_T2  AGE_T3  ZIP_CODE  BMI_T1  WEIGHT_T1  \\\n",
       "1      F       1960      52      55      59      9903    21.9       70.0   \n",
       "2      F       1964      48      51      57      8411    20.9       62.0   \n",
       "3      F       1951      58      62      68      9101    24.6       71.0   \n",
       "4      M       1958      54      57      61      9761    25.0       70.5   \n",
       "5      F       1963      45      50      57      9201    24.0       61.0   \n",
       "\n",
       "   HIP_T1  HEIGHT_T1  ...  NSES_YEAR      NSES  NEIGHBOURHOOD1_T2  \\\n",
       "1    91.0      178.5  ...       2010 -0.148238                8.0   \n",
       "2    93.0      172.5  ...       2010  0.357413               10.0   \n",
       "3   104.0      170.0  ...       2010 -1.730366                9.0   \n",
       "4    95.0      169.5  ...       2010  0.106612                8.0   \n",
       "5    95.0      159.8  ...       2006 -1.004381                9.0   \n",
       "\n",
       "   NEIGHBOURHOOD2_T2  NEIGHBOURHOOD3_T2  NEIGHBOURHOOD4_T2  NEIGHBOURHOOD5_T2  \\\n",
       "1                1.0                3.0                5.0                3.0   \n",
       "2                1.0                1.0                1.0                5.0   \n",
       "3                1.0                2.0                2.0                3.0   \n",
       "4                2.0                1.0                1.0                5.0   \n",
       "5                4.0                1.0                1.0                5.0   \n",
       "\n",
       "   NEIGHBOURHOOD6_T2  MENTAL_DISORDER_T1  MENTAL_DISORDER_T2  \n",
       "1                4.0                 0.0                 0.0  \n",
       "2                5.0                 0.0                 0.0  \n",
       "3                4.0                 0.0                 0.0  \n",
       "4                5.0                 0.0                 0.0  \n",
       "5                5.0                 0.0                 0.0  \n",
       "\n",
       "[5 rows x 84 columns]"
      ]
     },
     "execution_count": 25,
     "metadata": {},
     "output_type": "execute_result"
    }
   ],
   "source": [
    "lifelines_df[\"GENDER\"] = lifelines_df[\"GENDER\"].map({2: \"F\", 1: \"M\"})\n",
    "lifelines_df.head()"
   ]
  },
  {
   "cell_type": "markdown",
   "metadata": {},
   "source": [
    "De \"1\" en \"2\" zijn vervangen door F voor vrouw en M voor man. \n"
   ]
  },
  {
   "cell_type": "code",
   "execution_count": null,
   "metadata": {},
   "outputs": [],
   "source": [
    "\n"
   ]
  },
  {
   "cell_type": "code",
   "execution_count": 34,
   "metadata": {},
   "outputs": [
    {
     "data": {
      "application/vnd.microsoft.datawrangler.viewer.v0+json": {
       "columns": [
        {
         "name": "attribute",
         "rawType": "object",
         "type": "string"
        },
        {
         "name": "unit",
         "rawType": "object",
         "type": "string"
        },
        {
         "name": "dtype",
         "rawType": "object",
         "type": "unknown"
        }
       ],
       "conversionMethod": "pd.DataFrame",
       "ref": "fb5bd44c-757d-4165-97df-c57a22a5dda2",
       "rows": [
        [
         "GENDER",
         "",
         "object"
        ],
        [
         "BIRTHYEAR",
         "",
         "int64"
        ],
        [
         "AGE_T1",
         "Jaar",
         "int64"
        ],
        [
         "AGE_T2",
         "Jaar",
         "int64"
        ],
        [
         "AGE_T3",
         "Jaar",
         "int64"
        ],
        [
         "ZIP_CODE",
         "kg/m2",
         "int64"
        ],
        [
         "BMI_T1",
         "kg",
         "float64"
        ],
        [
         "WEIGHT_T1",
         "cm",
         "float64"
        ],
        [
         "HIP_T1",
         "cm",
         "float64"
        ],
        [
         "HEIGHT_T1",
         "cm",
         "float64"
        ],
        [
         "WAIST_T1",
         "kg/m2",
         "float64"
        ],
        [
         "BMI_T2",
         "kg",
         "float64"
        ],
        [
         "WEIGHT_T2",
         "cm",
         "float64"
        ],
        [
         "HIP_T2",
         "cm",
         "float64"
        ],
        [
         "HEIGHT_T2",
         "cm",
         "float64"
        ],
        [
         "WAIST_T2",
         "kg",
         "float64"
        ],
        [
         "HEIGHT_T3",
         "cm",
         "float64"
        ],
        [
         "WEIGHT_T3",
         "cm",
         "float64"
        ],
        [
         "HIP_T3",
         "cm",
         "float64"
        ],
        [
         "WAIST_T3",
         "",
         "float64"
        ],
        [
         "EDUCATION_LOWER_T1",
         "",
         "float64"
        ],
        [
         "EDUCATION_LOWER_T2",
         "",
         "float64"
        ],
        [
         "FINANCE_T1",
         "",
         "int64"
        ],
        [
         "WORK_T1",
         "",
         "float64"
        ],
        [
         "WORK_T2",
         "",
         "float64"
        ],
        [
         "LOW_QUALITY_OF_LIFE_T1",
         "",
         "float64"
        ],
        [
         "LOW_QUALITY_OF_LIFE_T2",
         "mmHg",
         "float64"
        ],
        [
         "DBP_T1",
         "mmHg",
         "float64"
        ],
        [
         "DBP_T2",
         "BPM",
         "float64"
        ],
        [
         "HBF_T1",
         "BPM",
         "float64"
        ],
        [
         "HBF_T2",
         "",
         "float64"
        ],
        [
         "MAP_T1",
         "",
         "float64"
        ],
        [
         "MAP_T2",
         "mmHg",
         "float64"
        ],
        [
         "SBP_T1",
         "mmHg",
         "float64"
        ],
        [
         "SBP_T2",
         "",
         "float64"
        ],
        [
         "HTN_MED_T1",
         "mmol/L",
         "float64"
        ],
        [
         "CHO_T1",
         "mmol/L",
         "float64"
        ],
        [
         "GLU_T1",
         "mmol/L",
         "float64"
        ],
        [
         "CHO_T2",
         "mmol/L",
         "float64"
        ],
        [
         "GLU_T2",
         "",
         "float64"
        ],
        [
         "RESPIRATORY_DISEASE_T1",
         "",
         "float64"
        ],
        [
         "SMOKING",
         "",
         "float64"
        ],
        [
         "METABOLIC_DISORDER_T1",
         "",
         "float64"
        ],
        [
         "METABOLIC_DISORDER_T2",
         "",
         "float64"
        ],
        [
         "LLDS",
         "",
         "float64"
        ],
        [
         "SUMOFALCOHOL",
         "",
         "float64"
        ],
        [
         "SUMOFKCAL",
         "",
         "float64"
        ],
        [
         "MWK_VAL",
         "gram/day",
         "float64"
        ],
        [
         "SCOR_VAL",
         "kcal/dag",
         "float64"
        ],
        [
         "MWK_NO_VAL",
         "minuten",
         "float64"
        ]
       ],
       "shape": {
        "columns": 2,
        "rows": 84
       }
      },
      "text/html": [
       "<div>\n",
       "<style scoped>\n",
       "    .dataframe tbody tr th:only-of-type {\n",
       "        vertical-align: middle;\n",
       "    }\n",
       "\n",
       "    .dataframe tbody tr th {\n",
       "        vertical-align: top;\n",
       "    }\n",
       "\n",
       "    .dataframe thead th {\n",
       "        text-align: right;\n",
       "    }\n",
       "</style>\n",
       "<table border=\"1\" class=\"dataframe\">\n",
       "  <thead>\n",
       "    <tr style=\"text-align: right;\">\n",
       "      <th></th>\n",
       "      <th>unit</th>\n",
       "      <th>dtype</th>\n",
       "    </tr>\n",
       "    <tr>\n",
       "      <th>attribute</th>\n",
       "      <th></th>\n",
       "      <th></th>\n",
       "    </tr>\n",
       "  </thead>\n",
       "  <tbody>\n",
       "    <tr>\n",
       "      <th>GENDER</th>\n",
       "      <td></td>\n",
       "      <td>object</td>\n",
       "    </tr>\n",
       "    <tr>\n",
       "      <th>BIRTHYEAR</th>\n",
       "      <td></td>\n",
       "      <td>int64</td>\n",
       "    </tr>\n",
       "    <tr>\n",
       "      <th>AGE_T1</th>\n",
       "      <td>Jaar</td>\n",
       "      <td>int64</td>\n",
       "    </tr>\n",
       "    <tr>\n",
       "      <th>AGE_T2</th>\n",
       "      <td>Jaar</td>\n",
       "      <td>int64</td>\n",
       "    </tr>\n",
       "    <tr>\n",
       "      <th>AGE_T3</th>\n",
       "      <td>Jaar</td>\n",
       "      <td>int64</td>\n",
       "    </tr>\n",
       "    <tr>\n",
       "      <th>...</th>\n",
       "      <td>...</td>\n",
       "      <td>...</td>\n",
       "    </tr>\n",
       "    <tr>\n",
       "      <th>NEIGHBOURHOOD4_T2</th>\n",
       "      <td></td>\n",
       "      <td>float64</td>\n",
       "    </tr>\n",
       "    <tr>\n",
       "      <th>NEIGHBOURHOOD5_T2</th>\n",
       "      <td>score</td>\n",
       "      <td>float64</td>\n",
       "    </tr>\n",
       "    <tr>\n",
       "      <th>NEIGHBOURHOOD6_T2</th>\n",
       "      <td>score</td>\n",
       "      <td>float64</td>\n",
       "    </tr>\n",
       "    <tr>\n",
       "      <th>MENTAL_DISORDER_T1</th>\n",
       "      <td>score</td>\n",
       "      <td>float64</td>\n",
       "    </tr>\n",
       "    <tr>\n",
       "      <th>MENTAL_DISORDER_T2</th>\n",
       "      <td>score</td>\n",
       "      <td>float64</td>\n",
       "    </tr>\n",
       "  </tbody>\n",
       "</table>\n",
       "<p>84 rows × 2 columns</p>\n",
       "</div>"
      ],
      "text/plain": [
       "                     unit    dtype\n",
       "attribute                         \n",
       "GENDER                      object\n",
       "BIRTHYEAR                    int64\n",
       "AGE_T1               Jaar    int64\n",
       "AGE_T2               Jaar    int64\n",
       "AGE_T3               Jaar    int64\n",
       "...                   ...      ...\n",
       "NEIGHBOURHOOD4_T2          float64\n",
       "NEIGHBOURHOOD5_T2   score  float64\n",
       "NEIGHBOURHOOD6_T2   score  float64\n",
       "MENTAL_DISORDER_T1  score  float64\n",
       "MENTAL_DISORDER_T2  score  float64\n",
       "\n",
       "[84 rows x 2 columns]"
      ]
     },
     "execution_count": 34,
     "metadata": {},
     "output_type": "execute_result"
    }
   ],
   "source": [
    "codebook = {\n",
    "    \"attribute\": lifelines_df.columns.tolist(), # Gebruik de kolom namen van het df voor de namen hier. \n",
    "    \"unit\": [\"\", \"\", \"Jaar\", \"Jaar\", \"Jaar\", \"kg/m2\", \"kg\", \"cm\", \"cm\", \"cm\", \"kg/m2\", \"kg\", \"cm\", \"cm\", \"cm\", \"kg\", \"cm\", \"cm\", \"cm\", \"\", \"\", \"\", \"\", \"\", \"\", \"\", \"mmHg\", \"mmHg\", \"BPM\", \"BPM\", \"\", \"\", \"mmHg\", \"mmHg\", \"\", \"mmol/L\", \"mmol/L\", \"mmol/L\", \"mmol/L\", \"\", \"\", \"\", \"\", \"\", \"\", \"\", \"\", \"gram/day\", \"kcal/dag\", \"minuten\", \"\", \"minuten\", \"\", \"%\",\"\", \"\", \"\", \"\", \"\", \"\", \"\", \"\", \"\", \"\", \"\", \"\", \"\", \"\", \"\", \"\", \"\", \"\", \"\", \"\", \"Jaar \", \"\", \"\", \"\",\"\", \"\", \"score\",\"score\", \"score\", \"score\",],\n",
    "    \"dtype\": lifelines_df.dtypes.tolist(), # Datatypes hier.\n",
    "}\n",
    "\n",
    "pd.DataFrame(codebook).set_index(\"attribute\")"
   ]
  },
  {
   "cell_type": "markdown",
   "metadata": {},
   "source": [
    "De \"unit\" kolommen zijn met de hand ingevuld. \\\n",
    "Optimalisatie: float64 en int64 vervangen door int8, de nummers blijven er toch ver onder. (To-do)"
   ]
  },
  {
   "cell_type": "code",
   "execution_count": 27,
   "metadata": {},
   "outputs": [
    {
     "data": {
      "application/vnd.microsoft.datawrangler.viewer.v0+json": {
       "columns": [
        {
         "name": "index",
         "rawType": "object",
         "type": "string"
        },
        {
         "name": "isna",
         "rawType": "int64",
         "type": "integer"
        }
       ],
       "conversionMethod": "pd.DataFrame",
       "ref": "c146607c-9baf-4f6a-bb7e-52c18fad2320",
       "rows": [
        [
         "GENDER",
         "0"
        ],
        [
         "BIRTHYEAR",
         "0"
        ],
        [
         "AGE_T1",
         "0"
        ],
        [
         "AGE_T2",
         "0"
        ],
        [
         "AGE_T3",
         "0"
        ],
        [
         "ZIP_CODE",
         "0"
        ],
        [
         "BMI_T1",
         "0"
        ],
        [
         "WEIGHT_T1",
         "0"
        ],
        [
         "HIP_T1",
         "0"
        ],
        [
         "HEIGHT_T1",
         "0"
        ],
        [
         "WAIST_T1",
         "0"
        ],
        [
         "BMI_T2",
         "50"
        ],
        [
         "WEIGHT_T2",
         "50"
        ],
        [
         "HIP_T2",
         "50"
        ],
        [
         "HEIGHT_T2",
         "50"
        ],
        [
         "WAIST_T2",
         "50"
        ],
        [
         "HEIGHT_T3",
         "0"
        ],
        [
         "WEIGHT_T3",
         "0"
        ],
        [
         "HIP_T3",
         "3"
        ],
        [
         "WAIST_T3",
         "0"
        ],
        [
         "EDUCATION_LOWER_T1",
         "30"
        ],
        [
         "EDUCATION_LOWER_T2",
         "1481"
        ],
        [
         "FINANCE_T1",
         "0"
        ],
        [
         "WORK_T1",
         "1619"
        ],
        [
         "WORK_T2",
         "1478"
        ],
        [
         "LOW_QUALITY_OF_LIFE_T1",
         "2"
        ],
        [
         "LOW_QUALITY_OF_LIFE_T2",
         "1466"
        ],
        [
         "DBP_T1",
         "6"
        ],
        [
         "DBP_T2",
         "65"
        ],
        [
         "HBF_T1",
         "6"
        ],
        [
         "HBF_T2",
         "65"
        ],
        [
         "MAP_T1",
         "8"
        ],
        [
         "MAP_T2",
         "65"
        ],
        [
         "SBP_T1",
         "6"
        ],
        [
         "SBP_T2",
         "65"
        ],
        [
         "HTN_MED_T1",
         "66"
        ],
        [
         "CHO_T1",
         "81"
        ],
        [
         "GLU_T1",
         "139"
        ],
        [
         "CHO_T2",
         "462"
        ],
        [
         "GLU_T2",
         "575"
        ],
        [
         "RESPIRATORY_DISEASE_T1",
         "41"
        ],
        [
         "SMOKING",
         "258"
        ],
        [
         "METABOLIC_DISORDER_T1",
         "2"
        ],
        [
         "METABOLIC_DISORDER_T2",
         "2"
        ],
        [
         "LLDS",
         "1679"
        ],
        [
         "SUMOFALCOHOL",
         "5495"
        ],
        [
         "SUMOFKCAL",
         "5382"
        ],
        [
         "MWK_VAL",
         "1122"
        ],
        [
         "SCOR_VAL",
         "1118"
        ],
        [
         "MWK_NO_VAL",
         "1120"
        ]
       ],
       "shape": {
        "columns": 1,
        "rows": 84
       }
      },
      "text/html": [
       "<div>\n",
       "<style scoped>\n",
       "    .dataframe tbody tr th:only-of-type {\n",
       "        vertical-align: middle;\n",
       "    }\n",
       "\n",
       "    .dataframe tbody tr th {\n",
       "        vertical-align: top;\n",
       "    }\n",
       "\n",
       "    .dataframe thead th {\n",
       "        text-align: right;\n",
       "    }\n",
       "</style>\n",
       "<table border=\"1\" class=\"dataframe\">\n",
       "  <thead>\n",
       "    <tr style=\"text-align: right;\">\n",
       "      <th></th>\n",
       "      <th>isna</th>\n",
       "    </tr>\n",
       "  </thead>\n",
       "  <tbody>\n",
       "    <tr>\n",
       "      <th>GENDER</th>\n",
       "      <td>0</td>\n",
       "    </tr>\n",
       "    <tr>\n",
       "      <th>BIRTHYEAR</th>\n",
       "      <td>0</td>\n",
       "    </tr>\n",
       "    <tr>\n",
       "      <th>AGE_T1</th>\n",
       "      <td>0</td>\n",
       "    </tr>\n",
       "    <tr>\n",
       "      <th>AGE_T2</th>\n",
       "      <td>0</td>\n",
       "    </tr>\n",
       "    <tr>\n",
       "      <th>AGE_T3</th>\n",
       "      <td>0</td>\n",
       "    </tr>\n",
       "    <tr>\n",
       "      <th>...</th>\n",
       "      <td>...</td>\n",
       "    </tr>\n",
       "    <tr>\n",
       "      <th>NEIGHBOURHOOD4_T2</th>\n",
       "      <td>4886</td>\n",
       "    </tr>\n",
       "    <tr>\n",
       "      <th>NEIGHBOURHOOD5_T2</th>\n",
       "      <td>4887</td>\n",
       "    </tr>\n",
       "    <tr>\n",
       "      <th>NEIGHBOURHOOD6_T2</th>\n",
       "      <td>4884</td>\n",
       "    </tr>\n",
       "    <tr>\n",
       "      <th>MENTAL_DISORDER_T1</th>\n",
       "      <td>376</td>\n",
       "    </tr>\n",
       "    <tr>\n",
       "      <th>MENTAL_DISORDER_T2</th>\n",
       "      <td>3224</td>\n",
       "    </tr>\n",
       "  </tbody>\n",
       "</table>\n",
       "<p>84 rows × 1 columns</p>\n",
       "</div>"
      ],
      "text/plain": [
       "                    isna\n",
       "GENDER                 0\n",
       "BIRTHYEAR              0\n",
       "AGE_T1                 0\n",
       "AGE_T2                 0\n",
       "AGE_T3                 0\n",
       "...                  ...\n",
       "NEIGHBOURHOOD4_T2   4886\n",
       "NEIGHBOURHOOD5_T2   4887\n",
       "NEIGHBOURHOOD6_T2   4884\n",
       "MENTAL_DISORDER_T1   376\n",
       "MENTAL_DISORDER_T2  3224\n",
       "\n",
       "[84 rows x 1 columns]"
      ]
     },
     "execution_count": 27,
     "metadata": {},
     "output_type": "execute_result"
    }
   ],
   "source": [
    "pd.DataFrame({\n",
    "    \"isna\": lifelines_df.isna().sum()\n",
    "})"
   ]
  },
  {
   "cell_type": "markdown",
   "metadata": {},
   "source": [
    "Geen NA's te bekennen.\n"
   ]
  },
  {
   "cell_type": "code",
   "execution_count": 28,
   "metadata": {},
   "outputs": [
    {
     "data": {
      "image/png": "[encoded data removed]",
      "text/plain": [
       "<Figure size 640x480 with 1 Axes>"
      ]
     },
     "metadata": {},
     "output_type": "display_data"
    }
   ],
   "source": [
    "axs = sns.histplot(lifelines_df[\"GENDER\"])\n",
    "axs.set_title(\"Verdeling geslachten\");"
   ]
  },
  {
   "cell_type": "markdown",
   "metadata": {},
   "source": [
    "\n",
    "Ongelijke verdeling van Man/Vrouw datapunten. Meer vrouwen dan mannen. \n"
   ]
  },
  {
   "cell_type": "code",
   "execution_count": 29,
   "metadata": {},
   "outputs": [
    {
     "data": {
      "application/vnd.microsoft.datawrangler.viewer.v0+json": {
       "columns": [
        {
         "name": "index",
         "rawType": "object",
         "type": "string"
        },
        {
         "name": "BIRTHYEAR",
         "rawType": "float64",
         "type": "float"
        },
        {
         "name": "AGE_T1",
         "rawType": "float64",
         "type": "float"
        },
        {
         "name": "AGE_T2",
         "rawType": "float64",
         "type": "float"
        },
        {
         "name": "AGE_T3",
         "rawType": "float64",
         "type": "float"
        },
        {
         "name": "ZIP_CODE",
         "rawType": "float64",
         "type": "float"
        },
        {
         "name": "BMI_T1",
         "rawType": "float64",
         "type": "float"
        },
        {
         "name": "WEIGHT_T1",
         "rawType": "float64",
         "type": "float"
        },
        {
         "name": "HIP_T1",
         "rawType": "float64",
         "type": "float"
        },
        {
         "name": "HEIGHT_T1",
         "rawType": "float64",
         "type": "float"
        },
        {
         "name": "WAIST_T1",
         "rawType": "float64",
         "type": "float"
        },
        {
         "name": "BMI_T2",
         "rawType": "float64",
         "type": "float"
        },
        {
         "name": "WEIGHT_T2",
         "rawType": "float64",
         "type": "float"
        },
        {
         "name": "HIP_T2",
         "rawType": "float64",
         "type": "float"
        },
        {
         "name": "HEIGHT_T2",
         "rawType": "float64",
         "type": "float"
        },
        {
         "name": "WAIST_T2",
         "rawType": "float64",
         "type": "float"
        },
        {
         "name": "HEIGHT_T3",
         "rawType": "float64",
         "type": "float"
        },
        {
         "name": "WEIGHT_T3",
         "rawType": "float64",
         "type": "float"
        },
        {
         "name": "HIP_T3",
         "rawType": "float64",
         "type": "float"
        },
        {
         "name": "WAIST_T3",
         "rawType": "float64",
         "type": "float"
        },
        {
         "name": "EDUCATION_LOWER_T1",
         "rawType": "float64",
         "type": "float"
        },
        {
         "name": "EDUCATION_LOWER_T2",
         "rawType": "float64",
         "type": "float"
        },
        {
         "name": "FINANCE_T1",
         "rawType": "float64",
         "type": "float"
        },
        {
         "name": "WORK_T1",
         "rawType": "float64",
         "type": "float"
        },
        {
         "name": "WORK_T2",
         "rawType": "float64",
         "type": "float"
        },
        {
         "name": "LOW_QUALITY_OF_LIFE_T1",
         "rawType": "float64",
         "type": "float"
        },
        {
         "name": "LOW_QUALITY_OF_LIFE_T2",
         "rawType": "float64",
         "type": "float"
        },
        {
         "name": "DBP_T1",
         "rawType": "float64",
         "type": "float"
        },
        {
         "name": "DBP_T2",
         "rawType": "float64",
         "type": "float"
        },
        {
         "name": "HBF_T1",
         "rawType": "float64",
         "type": "float"
        },
        {
         "name": "HBF_T2",
         "rawType": "float64",
         "type": "float"
        },
        {
         "name": "MAP_T1",
         "rawType": "float64",
         "type": "float"
        },
        {
         "name": "MAP_T2",
         "rawType": "float64",
         "type": "float"
        },
        {
         "name": "SBP_T1",
         "rawType": "float64",
         "type": "float"
        },
        {
         "name": "SBP_T2",
         "rawType": "float64",
         "type": "float"
        },
        {
         "name": "HTN_MED_T1",
         "rawType": "float64",
         "type": "float"
        },
        {
         "name": "CHO_T1",
         "rawType": "float64",
         "type": "float"
        },
        {
         "name": "GLU_T1",
         "rawType": "float64",
         "type": "float"
        },
        {
         "name": "CHO_T2",
         "rawType": "float64",
         "type": "float"
        },
        {
         "name": "GLU_T2",
         "rawType": "float64",
         "type": "float"
        },
        {
         "name": "RESPIRATORY_DISEASE_T1",
         "rawType": "float64",
         "type": "float"
        },
        {
         "name": "SMOKING",
         "rawType": "float64",
         "type": "float"
        },
        {
         "name": "METABOLIC_DISORDER_T1",
         "rawType": "float64",
         "type": "float"
        },
        {
         "name": "METABOLIC_DISORDER_T2",
         "rawType": "float64",
         "type": "float"
        },
        {
         "name": "LLDS",
         "rawType": "float64",
         "type": "float"
        },
        {
         "name": "SUMOFALCOHOL",
         "rawType": "float64",
         "type": "float"
        },
        {
         "name": "SUMOFKCAL",
         "rawType": "float64",
         "type": "float"
        },
        {
         "name": "MWK_VAL",
         "rawType": "float64",
         "type": "float"
        },
        {
         "name": "SCOR_VAL",
         "rawType": "float64",
         "type": "float"
        },
        {
         "name": "MWK_NO_VAL",
         "rawType": "float64",
         "type": "float"
        },
        {
         "name": "SCOR_NO_VAL",
         "rawType": "float64",
         "type": "float"
        },
        {
         "name": "SPORTS_T1",
         "rawType": "float64",
         "type": "float"
        },
        {
         "name": "CYCLE_COMMUTE_T1",
         "rawType": "float64",
         "type": "float"
        },
        {
         "name": "VOLUNTEER_T1",
         "rawType": "float64",
         "type": "float"
        },
        {
         "name": "PREGNANCIES",
         "rawType": "float64",
         "type": "float"
        },
        {
         "name": "OSTEOARTHRITIS",
         "rawType": "float64",
         "type": "float"
        },
        {
         "name": "BURNOUT_T1",
         "rawType": "float64",
         "type": "float"
        },
        {
         "name": "DEPRESSION_T1",
         "rawType": "float64",
         "type": "float"
        },
        {
         "name": "SLEEP_QUALITY",
         "rawType": "float64",
         "type": "float"
        },
        {
         "name": "DIAG_CFS_CDC",
         "rawType": "float64",
         "type": "float"
        },
        {
         "name": "DIAG_FIBROMYALGIA_ACR",
         "rawType": "float64",
         "type": "float"
        },
        {
         "name": "DIAG_IBS_ROME3",
         "rawType": "float64",
         "type": "float"
        },
        {
         "name": "C_SUM_T1",
         "rawType": "float64",
         "type": "float"
        },
        {
         "name": "A_SUM_T1",
         "rawType": "float64",
         "type": "float"
        },
        {
         "name": "SC_SUM_T1",
         "rawType": "float64",
         "type": "float"
        },
        {
         "name": "I_SUM_T1",
         "rawType": "float64",
         "type": "float"
        },
        {
         "name": "E_SUM_T1",
         "rawType": "float64",
         "type": "float"
        },
        {
         "name": "SD_SUM_T1",
         "rawType": "float64",
         "type": "float"
        },
        {
         "name": "V_SUM_T1",
         "rawType": "float64",
         "type": "float"
        },
        {
         "name": "D_SUM_T1",
         "rawType": "float64",
         "type": "float"
        },
        {
         "name": "LTE_SUM_T1",
         "rawType": "float64",
         "type": "float"
        },
        {
         "name": "LDI_SUM_T1",
         "rawType": "float64",
         "type": "float"
        },
        {
         "name": "LTE_SUM_T2",
         "rawType": "float64",
         "type": "float"
        },
        {
         "name": "LDI_SUM_T2",
         "rawType": "float64",
         "type": "float"
        },
        {
         "name": "NSES_YEAR",
         "rawType": "float64",
         "type": "float"
        },
        {
         "name": "NSES",
         "rawType": "float64",
         "type": "float"
        },
        {
         "name": "NEIGHBOURHOOD1_T2",
         "rawType": "float64",
         "type": "float"
        },
        {
         "name": "NEIGHBOURHOOD2_T2",
         "rawType": "float64",
         "type": "float"
        },
        {
         "name": "NEIGHBOURHOOD3_T2",
         "rawType": "float64",
         "type": "float"
        },
        {
         "name": "NEIGHBOURHOOD4_T2",
         "rawType": "float64",
         "type": "float"
        },
        {
         "name": "NEIGHBOURHOOD5_T2",
         "rawType": "float64",
         "type": "float"
        },
        {
         "name": "NEIGHBOURHOOD6_T2",
         "rawType": "float64",
         "type": "float"
        },
        {
         "name": "MENTAL_DISORDER_T1",
         "rawType": "float64",
         "type": "float"
        },
        {
         "name": "MENTAL_DISORDER_T2",
         "rawType": "float64",
         "type": "float"
        }
       ],
       "conversionMethod": "pd.DataFrame",
       "ref": "66a364d9-6655-4996-9f60-e173f82aa19d",
       "rows": [
        [
         "count",
         "16696.0",
         "16696.0",
         "16696.0",
         "16696.0",
         "16696.0",
         "16696.0",
         "16696.0",
         "16696.0",
         "16696.0",
         "16696.0",
         "16646.0",
         "16646.0",
         "16646.0",
         "16646.0",
         "16646.0",
         "16696.0",
         "16696.0",
         "16693.0",
         "16696.0",
         "16666.0",
         "15215.0",
         "16696.0",
         "15077.0",
         "15218.0",
         "16694.0",
         "15230.0",
         "16690.0",
         "16631.0",
         "16690.0",
         "16631.0",
         "16688.0",
         "16631.0",
         "16690.0",
         "16631.0",
         "16630.0",
         "16615.0",
         "16557.0",
         "16234.0",
         "16121.0",
         "16655.0",
         "16438.0",
         "16694.0",
         "16694.0",
         "15017.0",
         "11201.0",
         "11314.0",
         "15574.0",
         "15578.0",
         "15576.0",
         "15576.0",
         "15578.0",
         "14573.0",
         "14030.0",
         "9167.0",
         "16696.0",
         "16696.0",
         "16696.0",
         "8118.0",
         "14374.0",
         "14213.0",
         "14382.0",
         "15484.0",
         "15497.0",
         "15530.0",
         "15463.0",
         "15494.0",
         "15536.0",
         "15559.0",
         "15548.0",
         "16344.0",
         "16308.0",
         "14947.0",
         "15001.0",
         "16696.0",
         "16200.0",
         "11747.0",
         "11806.0",
         "11812.0",
         "11810.0",
         "11809.0",
         "11812.0",
         "16320.0",
         "13472.0"
        ],
        [
         "mean",
         "1963.883265452803",
         "46.62176569238141",
         "50.386859127934834",
         "56.395603737422135",
         "9088.022220891231",
         "25.94849065644466",
         "79.58064206995687",
         "99.17618591279349",
         "174.9203941063728",
         "90.15055701964542",
         "26.065355040249912",
         "79.69288117265408",
         "99.75883095037847",
         "174.6557250991229",
         "90.10202451039288",
         "174.21551269765214",
         "81.85392908481074",
         "102.19527945845564",
         "92.3455558217537",
         "0.2543501740069603",
         "0.2560630956293132",
         "6.955498322951605",
         "0.7425880480201632",
         "0.7687606781443028",
         "0.08260452857314005",
         "0.10216677609980301",
         "74.12426602756142",
         "74.13390656003848",
         "70.62384661473936",
         "68.5388130599483",
         "93.45068312559923",
         "94.52720822560279",
         "125.7139604553625",
         "128.1808069268234",
         "0.11034275405892964",
         "5.137903701474571",
         "4.996309717944071",
         "5.124374769003326",
         "5.050648222814962",
         "0.0805764034824377",
         "0.16887699233483391",
         "0.004073319755600814",
         "0.018928956511321433",
         "24.879802890057935",
         "7.555938755468262",
         "2010.828261445996",
         "508.1980865545139",
         "2654.124470406984",
         "279.48889316897794",
         "1502.5694658448895",
         "0.5912183849017846",
         "0.41130858436835244",
         "0.33250178189593727",
         "1.9150212719537472",
         "0.08181600383325348",
         "0.09121945376137996",
         "0.0951126018207954",
         "0.3532889874353289",
         "0.02977598441630722",
         "0.060085836909871244",
         "0.054512585175914334",
         "29.814259881167658",
         "18.387946054074984",
         "19.637669027688347",
         "22.03285261592188",
         "21.787207951465085",
         "29.45977085478888",
         "18.131949354071597",
         "28.580589143298173",
         "0.9968184043073911",
         "2.374478783419181",
         "0.7939385829932428",
         "2.0552629824678355",
         "2009.3632007666506",
         "-0.576548949283827",
         "8.218609006554866",
         "1.9423174656954092",
         "1.4514900101591601",
         "1.7556308213378493",
         "3.689812854602422",
         "4.075855062648154",
         "0.07953431372549019",
         "0.08506532066508314"
        ],
        [
         "std",
         "11.15983547301736",
         "11.179438326259922",
         "11.128222371394719",
         "11.160990866395153",
         "703.5947016629738",
         "4.110023263047765",
         "14.718271306223652",
         "9.177001056927995",
         "9.35203448534495",
         "11.800291707653981",
         "4.213302470523958",
         "14.873546378775426",
         "9.151241084597356",
         "9.427079321602196",
         "12.150098273714462",
         "9.509239157932761",
         "15.655875816262915",
         "9.590749434726446",
         "13.793088386080685",
         "0.435508373624916",
         "0.4364714282805741",
         "2.621631571497574",
         "0.4372227328482351",
         "0.42163892142578924",
         "0.2752917727082802",
         "0.30287744923313425",
         "9.283732268750944",
         "9.385839022089316",
         "10.744753506127726",
         "11.109737149958985",
         "10.008588066951676",
         "10.356552239046115",
         "14.915513856753151",
         "15.914967434110757",
         "0.31332592305950346",
         "0.9907365904056933",
         "0.7820012813884397",
         "0.9743461353230928",
         "0.8318987715662723",
         "0.27219165140736223",
         "0.3746546315169583",
         "0.4303611830471663",
         "0.4564558149100747",
         "6.082937941885633",
         "8.557061364295583",
         "628.2492268994891",
         "665.9173706347735",
         "3353.8478136415547",
         "303.19115087635436",
         "1576.9704330860097",
         "0.49162457362055734",
         "0.4920878470043458",
         "0.47112648761110837",
         "1.1879275621677798",
         "0.274092402355988",
         "0.2879295581969021",
         "0.29337919149712827",
         "0.47802094788323607",
         "0.16997466029870353",
         "0.23765416660457522",
         "0.22703424234187705",
         "3.3602973042793702",
         "4.284458746784429",
         "4.645000494881575",
         "3.9154109717806405",
         "4.600333551002606",
         "4.274721596057531",
         "4.090741131069028",
         "4.1020620847139915",
         "1.220674724046685",
         "2.2883192754454345",
         "1.0899996389331024",
         "2.2544945773208114",
         "1.4634930654916507",
         "1.0790837171243433",
         "1.4606657254772986",
         "0.8213437298640067",
         "0.6803608200564504",
         "1.0387834683479769",
         "1.0167459854441145",
         "0.8100437310103201",
         "0.3207362979587067",
         "0.3339715796271444"
        ],
        [
         "min",
         "1927.0",
         "18.0",
         "20.0",
         "25.0",
         "1015.0",
         "15.4",
         "42.0",
         "62.0",
         "137.0",
         "60.0",
         "13.0",
         "43.5",
         "68.0",
         "116.5",
         "52.0",
         "108.0",
         "36.7",
         "0.0",
         "11.0",
         "0.0",
         "0.0",
         "1.0",
         "0.0",
         "0.0",
         "0.0",
         "0.0",
         "47.0",
         "43.0",
         "31.0",
         "34.0",
         "0.0",
         "65.0",
         "72.0",
         "86.0",
         "0.0",
         "2.1",
         "2.7",
         "2.1",
         "2.8",
         "0.0",
         "0.0",
         "-9.0",
         "-9.0",
         "4.0",
         "0.0",
         "4.18",
         "0.0",
         "0.0",
         "0.0",
         "0.0",
         "0.0",
         "0.0",
         "0.0",
         "0.0",
         "0.0",
         "0.0",
         "0.0",
         "0.0",
         "0.0",
         "0.0",
         "0.0",
         "12.0",
         "8.0",
         "8.0",
         "8.0",
         "8.0",
         "11.0",
         "8.0",
         "12.0",
         "0.0",
         "0.0",
         "0.0",
         "0.0",
         "2006.0",
         "-7.121882962",
         "1.0",
         "1.0",
         "1.0",
         "1.0",
         "1.0",
         "1.0",
         "0.0",
         "0.0"
        ],
        [
         "25%",
         "1957.0",
         "40.0",
         "43.0",
         "49.0",
         "8496.5",
         "23.2",
         "69.0",
         "93.0",
         "168.0",
         "82.0",
         "23.2",
         "69.0",
         "94.0",
         "167.5",
         "81.0",
         "167.0",
         "70.6",
         "96.0",
         "83.0",
         "0.0",
         "0.0",
         "6.0",
         "0.0",
         "1.0",
         "0.0",
         "0.0",
         "68.0",
         "67.0",
         "63.0",
         "61.0",
         "87.0",
         "87.0",
         "115.0",
         "117.0",
         "0.0",
         "4.4",
         "4.6",
         "4.4",
         "4.6",
         "0.0",
         "0.0",
         "0.0",
         "0.0",
         "21.0",
         "1.24",
         "1600.2675",
         "120.0",
         "600.0",
         "80.0",
         "425.0",
         "0.0",
         "0.0",
         "0.0",
         "1.0",
         "0.0",
         "0.0",
         "0.0",
         "0.0",
         "0.0",
         "0.0",
         "0.0",
         "28.0",
         "15.0",
         "16.0",
         "19.0",
         "19.0",
         "27.0",
         "16.0",
         "26.0",
         "0.0",
         "1.0",
         "0.0",
         "0.0",
         "2010.0",
         "-1.194383308",
         "8.0",
         "1.0",
         "1.0",
         "1.0",
         "3.0",
         "4.0",
         "0.0",
         "0.0"
        ],
        [
         "50%",
         "1964.0",
         "47.0",
         "51.0",
         "57.0",
         "9281.0",
         "25.4",
         "78.0",
         "98.0",
         "174.0",
         "90.0",
         "25.5",
         "78.0",
         "99.0",
         "174.0",
         "89.0",
         "173.5",
         "80.3",
         "101.0",
         "92.0",
         "0.0",
         "0.0",
         "7.0",
         "1.0",
         "1.0",
         "0.0",
         "0.0",
         "73.0",
         "73.0",
         "70.0",
         "68.0",
         "92.0",
         "93.0",
         "124.0",
         "127.0",
         "0.0",
         "5.1",
         "4.9",
         "5.1",
         "4.9",
         "0.0",
         "0.0",
         "0.0",
         "0.0",
         "25.0",
         "5.29",
         "1923.36",
         "270.0",
         "1500.0",
         "200.0",
         "1080.0",
         "1.0",
         "0.0",
         "0.0",
         "2.0",
         "0.0",
         "0.0",
         "0.0",
         "0.0",
         "0.0",
         "0.0",
         "0.0",
         "30.0",
         "18.0",
         "19.0",
         "22.0",
         "22.0",
         "30.0",
         "18.0",
         "29.0",
         "1.0",
         "2.0",
         "0.0",
         "1.0",
         "2010.0",
         "-0.580492396",
         "8.0",
         "2.0",
         "1.0",
         "1.0",
         "4.0",
         "4.0",
         "0.0",
         "0.0"
        ],
        [
         "75%",
         "1971.0",
         "54.0",
         "57.0",
         "64.0",
         "9654.0",
         "28.0",
         "89.0",
         "104.0",
         "181.5",
         "98.0",
         "28.2",
         "89.0",
         "104.0",
         "181.5",
         "98.0",
         "181.0",
         "91.2",
         "107.0",
         "100.2",
         "1.0",
         "1.0",
         "9.0",
         "1.0",
         "1.0",
         "0.0",
         "0.0",
         "80.0",
         "80.0",
         "77.0",
         "75.0",
         "99.0",
         "101.0",
         "135.0",
         "138.0",
         "0.0",
         "5.8",
         "5.2",
         "5.8",
         "5.3",
         "0.0",
         "0.0",
         "0.0",
         "0.0",
         "29.0",
         "11.41",
         "2326.16",
         "590.0",
         "3180.0",
         "380.0",
         "2100.0",
         "1.0",
         "1.0",
         "1.0",
         "3.0",
         "0.0",
         "0.0",
         "0.0",
         "1.0",
         "0.0",
         "0.0",
         "0.0",
         "32.0",
         "21.0",
         "22.0",
         "25.0",
         "25.0",
         "32.0",
         "21.0",
         "31.0",
         "2.0",
         "3.0",
         "1.0",
         "3.0",
         "2010.0",
         "0.183075854",
         "9.0",
         "2.0",
         "2.0",
         "2.0",
         "4.0",
         "5.0",
         "0.0",
         "0.0"
        ],
        [
         "max",
         "1995.0",
         "84.0",
         "88.0",
         "95.0",
         "9998.0",
         "53.8",
         "158.0",
         "185.0",
         "207.0",
         "156.0",
         "54.5",
         "160.0",
         "192.5",
         "206.0",
         "155.0",
         "208.5",
         "168.3",
         "175.0",
         "761.0",
         "1.0",
         "1.0",
         "10.0",
         "1.0",
         "1.0",
         "1.0",
         "1.0",
         "143.0",
         "128.0",
         "147.0",
         "142.0",
         "160.0",
         "151.0",
         "221.0",
         "213.0",
         "1.0",
         "9.5",
         "22.1",
         "9.8",
         "20.6",
         "1.0",
         "1.0",
         "1.0",
         "1.0",
         "46.0",
         "76.49",
         "7460.75",
         "6227.0",
         "33960.0",
         "4450.0",
         "26570.0",
         "1.0",
         "1.0",
         "1.0",
         "9.0",
         "1.0",
         "1.0",
         "1.0",
         "1.0",
         "1.0",
         "1.0",
         "1.0",
         "40.0",
         "38.0",
         "40.0",
         "38.0",
         "39.0",
         "40.0",
         "38.0",
         "40.0",
         "11.0",
         "17.0",
         "12.0",
         "23.0",
         "2010.0",
         "2.933053713",
         "10.0",
         "5.0",
         "5.0",
         "5.0",
         "5.0",
         "5.0",
         "4.0",
         "5.0"
        ]
       ],
       "shape": {
        "columns": 83,
        "rows": 8
       }
      },
      "text/html": [
       "<div>\n",
       "<style scoped>\n",
       "    .dataframe tbody tr th:only-of-type {\n",
       "        vertical-align: middle;\n",
       "    }\n",
       "\n",
       "    .dataframe tbody tr th {\n",
       "        vertical-align: top;\n",
       "    }\n",
       "\n",
       "    .dataframe thead th {\n",
       "        text-align: right;\n",
       "    }\n",
       "</style>\n",
       "<table border=\"1\" class=\"dataframe\">\n",
       "  <thead>\n",
       "    <tr style=\"text-align: right;\">\n",
       "      <th></th>\n",
       "      <th>BIRTHYEAR</th>\n",
       "      <th>AGE_T1</th>\n",
       "      <th>AGE_T2</th>\n",
       "      <th>AGE_T3</th>\n",
       "      <th>ZIP_CODE</th>\n",
       "      <th>BMI_T1</th>\n",
       "      <th>WEIGHT_T1</th>\n",
       "      <th>HIP_T1</th>\n",
       "      <th>HEIGHT_T1</th>\n",
       "      <th>WAIST_T1</th>\n",
       "      <th>...</th>\n",
       "      <th>NSES_YEAR</th>\n",
       "      <th>NSES</th>\n",
       "      <th>NEIGHBOURHOOD1_T2</th>\n",
       "      <th>NEIGHBOURHOOD2_T2</th>\n",
       "      <th>NEIGHBOURHOOD3_T2</th>\n",
       "      <th>NEIGHBOURHOOD4_T2</th>\n",
       "      <th>NEIGHBOURHOOD5_T2</th>\n",
       "      <th>NEIGHBOURHOOD6_T2</th>\n",
       "      <th>MENTAL_DISORDER_T1</th>\n",
       "      <th>MENTAL_DISORDER_T2</th>\n",
       "    </tr>\n",
       "  </thead>\n",
       "  <tbody>\n",
       "    <tr>\n",
       "      <th>count</th>\n",
       "      <td>16696.000000</td>\n",
       "      <td>16696.000000</td>\n",
       "      <td>16696.000000</td>\n",
       "      <td>16696.000000</td>\n",
       "      <td>16696.000000</td>\n",
       "      <td>16696.000000</td>\n",
       "      <td>16696.000000</td>\n",
       "      <td>16696.000000</td>\n",
       "      <td>16696.000000</td>\n",
       "      <td>16696.000000</td>\n",
       "      <td>...</td>\n",
       "      <td>16696.000000</td>\n",
       "      <td>16200.000000</td>\n",
       "      <td>11747.000000</td>\n",
       "      <td>11806.000000</td>\n",
       "      <td>11812.000000</td>\n",
       "      <td>11810.000000</td>\n",
       "      <td>11809.000000</td>\n",
       "      <td>11812.000000</td>\n",
       "      <td>16320.000000</td>\n",
       "      <td>13472.000000</td>\n",
       "    </tr>\n",
       "    <tr>\n",
       "      <th>mean</th>\n",
       "      <td>1963.883265</td>\n",
       "      <td>46.621766</td>\n",
       "      <td>50.386859</td>\n",
       "      <td>56.395604</td>\n",
       "      <td>9088.022221</td>\n",
       "      <td>25.948491</td>\n",
       "      <td>79.580642</td>\n",
       "      <td>99.176186</td>\n",
       "      <td>174.920394</td>\n",
       "      <td>90.150557</td>\n",
       "      <td>...</td>\n",
       "      <td>2009.363201</td>\n",
       "      <td>-0.576549</td>\n",
       "      <td>8.218609</td>\n",
       "      <td>1.942317</td>\n",
       "      <td>1.451490</td>\n",
       "      <td>1.755631</td>\n",
       "      <td>3.689813</td>\n",
       "      <td>4.075855</td>\n",
       "      <td>0.079534</td>\n",
       "      <td>0.085065</td>\n",
       "    </tr>\n",
       "    <tr>\n",
       "      <th>std</th>\n",
       "      <td>11.159835</td>\n",
       "      <td>11.179438</td>\n",
       "      <td>11.128222</td>\n",
       "      <td>11.160991</td>\n",
       "      <td>703.594702</td>\n",
       "      <td>4.110023</td>\n",
       "      <td>14.718271</td>\n",
       "      <td>9.177001</td>\n",
       "      <td>9.352034</td>\n",
       "      <td>11.800292</td>\n",
       "      <td>...</td>\n",
       "      <td>1.463493</td>\n",
       "      <td>1.079084</td>\n",
       "      <td>1.460666</td>\n",
       "      <td>0.821344</td>\n",
       "      <td>0.680361</td>\n",
       "      <td>1.038783</td>\n",
       "      <td>1.016746</td>\n",
       "      <td>0.810044</td>\n",
       "      <td>0.320736</td>\n",
       "      <td>0.333972</td>\n",
       "    </tr>\n",
       "    <tr>\n",
       "      <th>min</th>\n",
       "      <td>1927.000000</td>\n",
       "      <td>18.000000</td>\n",
       "      <td>20.000000</td>\n",
       "      <td>25.000000</td>\n",
       "      <td>1015.000000</td>\n",
       "      <td>15.400000</td>\n",
       "      <td>42.000000</td>\n",
       "      <td>62.000000</td>\n",
       "      <td>137.000000</td>\n",
       "      <td>60.000000</td>\n",
       "      <td>...</td>\n",
       "      <td>2006.000000</td>\n",
       "      <td>-7.121883</td>\n",
       "      <td>1.000000</td>\n",
       "      <td>1.000000</td>\n",
       "      <td>1.000000</td>\n",
       "      <td>1.000000</td>\n",
       "      <td>1.000000</td>\n",
       "      <td>1.000000</td>\n",
       "      <td>0.000000</td>\n",
       "      <td>0.000000</td>\n",
       "    </tr>\n",
       "    <tr>\n",
       "      <th>25%</th>\n",
       "      <td>1957.000000</td>\n",
       "      <td>40.000000</td>\n",
       "      <td>43.000000</td>\n",
       "      <td>49.000000</td>\n",
       "      <td>8496.500000</td>\n",
       "      <td>23.200000</td>\n",
       "      <td>69.000000</td>\n",
       "      <td>93.000000</td>\n",
       "      <td>168.000000</td>\n",
       "      <td>82.000000</td>\n",
       "      <td>...</td>\n",
       "      <td>2010.000000</td>\n",
       "      <td>-1.194383</td>\n",
       "      <td>8.000000</td>\n",
       "      <td>1.000000</td>\n",
       "      <td>1.000000</td>\n",
       "      <td>1.000000</td>\n",
       "      <td>3.000000</td>\n",
       "      <td>4.000000</td>\n",
       "      <td>0.000000</td>\n",
       "      <td>0.000000</td>\n",
       "    </tr>\n",
       "    <tr>\n",
       "      <th>50%</th>\n",
       "      <td>1964.000000</td>\n",
       "      <td>47.000000</td>\n",
       "      <td>51.000000</td>\n",
       "      <td>57.000000</td>\n",
       "      <td>9281.000000</td>\n",
       "      <td>25.400000</td>\n",
       "      <td>78.000000</td>\n",
       "      <td>98.000000</td>\n",
       "      <td>174.000000</td>\n",
       "      <td>90.000000</td>\n",
       "      <td>...</td>\n",
       "      <td>2010.000000</td>\n",
       "      <td>-0.580492</td>\n",
       "      <td>8.000000</td>\n",
       "      <td>2.000000</td>\n",
       "      <td>1.000000</td>\n",
       "      <td>1.000000</td>\n",
       "      <td>4.000000</td>\n",
       "      <td>4.000000</td>\n",
       "      <td>0.000000</td>\n",
       "      <td>0.000000</td>\n",
       "    </tr>\n",
       "    <tr>\n",
       "      <th>75%</th>\n",
       "      <td>1971.000000</td>\n",
       "      <td>54.000000</td>\n",
       "      <td>57.000000</td>\n",
       "      <td>64.000000</td>\n",
       "      <td>9654.000000</td>\n",
       "      <td>28.000000</td>\n",
       "      <td>89.000000</td>\n",
       "      <td>104.000000</td>\n",
       "      <td>181.500000</td>\n",
       "      <td>98.000000</td>\n",
       "      <td>...</td>\n",
       "      <td>2010.000000</td>\n",
       "      <td>0.183076</td>\n",
       "      <td>9.000000</td>\n",
       "      <td>2.000000</td>\n",
       "      <td>2.000000</td>\n",
       "      <td>2.000000</td>\n",
       "      <td>4.000000</td>\n",
       "      <td>5.000000</td>\n",
       "      <td>0.000000</td>\n",
       "      <td>0.000000</td>\n",
       "    </tr>\n",
       "    <tr>\n",
       "      <th>max</th>\n",
       "      <td>1995.000000</td>\n",
       "      <td>84.000000</td>\n",
       "      <td>88.000000</td>\n",
       "      <td>95.000000</td>\n",
       "      <td>9998.000000</td>\n",
       "      <td>53.800000</td>\n",
       "      <td>158.000000</td>\n",
       "      <td>185.000000</td>\n",
       "      <td>207.000000</td>\n",
       "      <td>156.000000</td>\n",
       "      <td>...</td>\n",
       "      <td>2010.000000</td>\n",
       "      <td>2.933054</td>\n",
       "      <td>10.000000</td>\n",
       "      <td>5.000000</td>\n",
       "      <td>5.000000</td>\n",
       "      <td>5.000000</td>\n",
       "      <td>5.000000</td>\n",
       "      <td>5.000000</td>\n",
       "      <td>4.000000</td>\n",
       "      <td>5.000000</td>\n",
       "    </tr>\n",
       "  </tbody>\n",
       "</table>\n",
       "<p>8 rows × 83 columns</p>\n",
       "</div>"
      ],
      "text/plain": [
       "          BIRTHYEAR        AGE_T1        AGE_T2        AGE_T3      ZIP_CODE  \\\n",
       "count  16696.000000  16696.000000  16696.000000  16696.000000  16696.000000   \n",
       "mean    1963.883265     46.621766     50.386859     56.395604   9088.022221   \n",
       "std       11.159835     11.179438     11.128222     11.160991    703.594702   \n",
       "min     1927.000000     18.000000     20.000000     25.000000   1015.000000   \n",
       "25%     1957.000000     40.000000     43.000000     49.000000   8496.500000   \n",
       "50%     1964.000000     47.000000     51.000000     57.000000   9281.000000   \n",
       "75%     1971.000000     54.000000     57.000000     64.000000   9654.000000   \n",
       "max     1995.000000     84.000000     88.000000     95.000000   9998.000000   \n",
       "\n",
       "             BMI_T1     WEIGHT_T1        HIP_T1     HEIGHT_T1      WAIST_T1  \\\n",
       "count  16696.000000  16696.000000  16696.000000  16696.000000  16696.000000   \n",
       "mean      25.948491     79.580642     99.176186    174.920394     90.150557   \n",
       "std        4.110023     14.718271      9.177001      9.352034     11.800292   \n",
       "min       15.400000     42.000000     62.000000    137.000000     60.000000   \n",
       "25%       23.200000     69.000000     93.000000    168.000000     82.000000   \n",
       "50%       25.400000     78.000000     98.000000    174.000000     90.000000   \n",
       "75%       28.000000     89.000000    104.000000    181.500000     98.000000   \n",
       "max       53.800000    158.000000    185.000000    207.000000    156.000000   \n",
       "\n",
       "       ...     NSES_YEAR          NSES  NEIGHBOURHOOD1_T2  NEIGHBOURHOOD2_T2  \\\n",
       "count  ...  16696.000000  16200.000000       11747.000000       11806.000000   \n",
       "mean   ...   2009.363201     -0.576549           8.218609           1.942317   \n",
       "std    ...      1.463493      1.079084           1.460666           0.821344   \n",
       "min    ...   2006.000000     -7.121883           1.000000           1.000000   \n",
       "25%    ...   2010.000000     -1.194383           8.000000           1.000000   \n",
       "50%    ...   2010.000000     -0.580492           8.000000           2.000000   \n",
       "75%    ...   2010.000000      0.183076           9.000000           2.000000   \n",
       "max    ...   2010.000000      2.933054          10.000000           5.000000   \n",
       "\n",
       "       NEIGHBOURHOOD3_T2  NEIGHBOURHOOD4_T2  NEIGHBOURHOOD5_T2  \\\n",
       "count       11812.000000       11810.000000       11809.000000   \n",
       "mean            1.451490           1.755631           3.689813   \n",
       "std             0.680361           1.038783           1.016746   \n",
       "min             1.000000           1.000000           1.000000   \n",
       "25%             1.000000           1.000000           3.000000   \n",
       "50%             1.000000           1.000000           4.000000   \n",
       "75%             2.000000           2.000000           4.000000   \n",
       "max             5.000000           5.000000           5.000000   \n",
       "\n",
       "       NEIGHBOURHOOD6_T2  MENTAL_DISORDER_T1  MENTAL_DISORDER_T2  \n",
       "count       11812.000000        16320.000000        13472.000000  \n",
       "mean            4.075855            0.079534            0.085065  \n",
       "std             0.810044            0.320736            0.333972  \n",
       "min             1.000000            0.000000            0.000000  \n",
       "25%             4.000000            0.000000            0.000000  \n",
       "50%             4.000000            0.000000            0.000000  \n",
       "75%             5.000000            0.000000            0.000000  \n",
       "max             5.000000            4.000000            5.000000  \n",
       "\n",
       "[8 rows x 83 columns]"
      ]
     },
     "execution_count": 29,
     "metadata": {},
     "output_type": "execute_result"
    }
   ],
   "source": [
    "lifelines_df.describe()"
   ]
  },
  {
   "cell_type": "code",
   "execution_count": 30,
   "metadata": {},
   "outputs": [],
   "source": [
    "def by_unit(*units):\n",
    "    # Retourneert een lijst van attributen die gevraagde eenheden hebben\n",
    "    return [attribute for attribute, unit in zip(codebook[\"attribute\"], codebook[\"unit\"]) if unit in units]"
   ]
  },
  {
   "cell_type": "code",
   "execution_count": 31,
   "metadata": {},
   "outputs": [
    {
     "data": {
      "image/png": "[encoded data removed]",
      "text/plain": [
       "<Figure size 960x480 with 1 Axes>"
      ]
     },
     "metadata": {},
     "output_type": "display_data"
    }
   ],
   "source": [
    "axs = lifelines_df[by_unit(\"cm\")].boxplot(grid=False, vert=False, figsize=(9.6, 4.8))\n",
    "axs.set_title(\"Afmeting-distributies [cm]\");"
   ]
  },
  {
   "cell_type": "markdown",
   "metadata": {},
   "source": [
    "Er zijn een groot aantal uitschieters."
   ]
  },
  {
   "cell_type": "code",
   "execution_count": 35,
   "metadata": {},
   "outputs": [
    {
     "data": {
      "image/png": "[encoded data removed]",
      "text/plain": [
       "<Figure size 960x480 with 1 Axes>"
      ]
     },
     "metadata": {},
     "output_type": "display_data"
    }
   ],
   "source": [
    "axs = lifelines_df[by_unit(\"Jaar\")].boxplot(grid=False, vert=False, figsize=(9.6, 4.8))\n",
    "axs.set_title(\"Gewicht-distributies [g]\");"
   ]
  },
  {
   "cell_type": "markdown",
   "metadata": {},
   "source": [
    "Tussen de verschillende meetpunten (T1 t/m T3) liggen de leeftijden steeds wat hoger, zoals verwachts. "
   ]
  },
  {
   "cell_type": "code",
   "execution_count": 42,
   "metadata": {},
   "outputs": [
    {
     "data": {
      "image/png": "[encoded data removed]",
      "text/plain": [
       "<Figure size 1600x1000 with 104 Axes>"
      ]
     },
     "metadata": {},
     "output_type": "display_data"
    }
   ],
   "source": [
    "lifelines_df.hist(bins=20, layout=(8, 13), figsize=(16.0, 10));"
   ]
  },
  {
   "cell_type": "markdown",
   "metadata": {},
   "source": [
    "To-do: overzichtelijker maken....\n",
    "\n"
   ]
  },
  {
   "cell_type": "code",
   "execution_count": null,
   "metadata": {},
   "outputs": [],
   "source": []
  }
 ],
 "metadata": {
  "kernelspec": {
   "display_name": ".venv",
   "language": "python",
   "name": "python3"
  },
  "language_info": {
   "codemirror_mode": {
    "name": "ipython",
    "version": 3
   },
   "file_extension": ".py",
   "mimetype": "text/x-python",
   "name": "python",
   "nbconvert_exporter": "python",
   "pygments_lexer": "ipython3",
   "version": "3.13.2"
  }
 },
 "nbformat": 4,
 "nbformat_minor": 2
}
